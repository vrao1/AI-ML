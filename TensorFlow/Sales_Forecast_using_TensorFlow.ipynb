{
  "nbformat": 4,
  "nbformat_minor": 0,
  "metadata": {
    "colab": {
      "provenance": [],
      "authorship_tag": "ABX9TyP47vdSAKGMthHAo7KgR8qM",
      "include_colab_link": true
    },
    "kernelspec": {
      "name": "python3",
      "display_name": "Python 3"
    },
    "language_info": {
      "name": "python"
    }
  },
  "cells": [
    {
      "cell_type": "markdown",
      "metadata": {
        "id": "view-in-github",
        "colab_type": "text"
      },
      "source": [
        "<a href=\"https://colab.research.google.com/github/vrao1/AI-ML/blob/main/TensorFlow/Sales_Forecast_using_TensorFlow.ipynb\" target=\"_parent\"><img src=\"https://colab.research.google.com/assets/colab-badge.svg\" alt=\"Open In Colab\"/></a>"
      ]
    },
    {
      "cell_type": "code",
      "execution_count": 4,
      "metadata": {
        "id": "Z64R7hu0QwyL"
      },
      "outputs": [],
      "source": [
        "import pandas as pd"
      ]
    },
    {
      "cell_type": "markdown",
      "source": [
        "Mounting Google Drive to access **datasets** **bold text**"
      ],
      "metadata": {
        "id": "TmxZb2AZSGfh"
      }
    },
    {
      "cell_type": "code",
      "source": [
        "from google.colab import drive\n",
        "drive.mount('/content/drive')"
      ],
      "metadata": {
        "colab": {
          "base_uri": "https://localhost:8080/"
        },
        "id": "fY2wrRByRaNP",
        "outputId": "13bf6f07-b5cb-4fde-f97f-c5485c815ed3"
      },
      "execution_count": 5,
      "outputs": [
        {
          "output_type": "stream",
          "name": "stdout",
          "text": [
            "Mounted at /content/drive\n"
          ]
        }
      ]
    },
    {
      "cell_type": "code",
      "source": [
        "def loadDataframe():\n",
        "  train_df = pd.read_csv('/content/drive/MyDrive/DatasetsForGoogleColabWork/TensorFlow/SalesForcast/weekly_sales.csv')\n",
        "  features_df = pd.read_csv('/content/drive/MyDrive/DatasetsForGoogleColabWork/TensorFlow/SalesForcast/features.csv')\n",
        "  stores_df = pd.read_csv('/content/drive/MyDrive/DatasetsForGoogleColabWork/TensorFlow/SalesForcast/stores.csv')\n",
        "\n",
        "  return (train_df, features_df, stores_df)"
      ],
      "metadata": {
        "id": "le8bAIjdSOKv"
      },
      "execution_count": 6,
      "outputs": []
    },
    {
      "cell_type": "code",
      "source": [
        "(t_df, f_df, s_df) = loadDataframe()"
      ],
      "metadata": {
        "id": "7PUlvYIcTxrV"
      },
      "execution_count": 7,
      "outputs": []
    },
    {
      "cell_type": "code",
      "source": [
        "print(t_df)"
      ],
      "metadata": {
        "colab": {
          "base_uri": "https://localhost:8080/"
        },
        "id": "v2MFk7TEUEfL",
        "outputId": "44b8e0ac-588e-4337-debf-216c10c47b86"
      },
      "execution_count": 8,
      "outputs": [
        {
          "output_type": "stream",
          "name": "stdout",
          "text": [
            "      Store  Dept        Date  Weekly_Sales  IsHoliday\n",
            "0         1     1  2010-02-05      24924.50      False\n",
            "1         1     1  2010-02-12      46039.49       True\n",
            "2         1     1  2010-02-19      41595.55      False\n",
            "3         1     1  2010-02-26      19403.54      False\n",
            "4         1     1  2010-03-05      21827.90      False\n",
            "...     ...   ...         ...           ...        ...\n",
            "9992      6     8  2010-04-30      47811.70      False\n",
            "9993      6     8  2010-05-07      46289.02      False\n",
            "9994      6     8  2010-05-14      46403.86      False\n",
            "9995      6     8  2010-05-21      46435.02      False\n",
            "9996      6     8  2010-05-28      47246.38      False\n",
            "\n",
            "[9997 rows x 5 columns]\n"
          ]
        }
      ]
    },
    {
      "cell_type": "code",
      "source": [
        "print(f_df)"
      ],
      "metadata": {
        "colab": {
          "base_uri": "https://localhost:8080/"
        },
        "id": "sGEcGfjEU8_M",
        "outputId": "08153c86-d5e0-4c5a-e72b-bfd2210d54d0"
      },
      "execution_count": 9,
      "outputs": [
        {
          "output_type": "stream",
          "name": "stdout",
          "text": [
            "      Store        Date  Temperature  Fuel_Price  MarkDown1  MarkDown2  \\\n",
            "0         1  2010-02-05        42.31       2.572        NaN        NaN   \n",
            "1         1  2010-02-12        38.51       2.548        NaN        NaN   \n",
            "2         1  2010-02-19        39.93       2.514        NaN        NaN   \n",
            "3         1  2010-02-26        46.63       2.561        NaN        NaN   \n",
            "4         1  2010-03-05        46.50       2.625        NaN        NaN   \n",
            "...     ...         ...          ...         ...        ...        ...   \n",
            "8185     45  2013-06-28        76.05       3.639    4842.29     975.03   \n",
            "8186     45  2013-07-05        77.50       3.614    9090.48    2268.58   \n",
            "8187     45  2013-07-12        79.37       3.614    3789.94    1827.31   \n",
            "8188     45  2013-07-19        82.84       3.737    2961.49    1047.07   \n",
            "8189     45  2013-07-26        76.06       3.804     212.02     851.73   \n",
            "\n",
            "      MarkDown3  MarkDown4  MarkDown5         CPI  Unemployment  IsHoliday  \n",
            "0           NaN        NaN        NaN  211.096358         8.106      False  \n",
            "1           NaN        NaN        NaN  211.242170         8.106       True  \n",
            "2           NaN        NaN        NaN  211.289143         8.106      False  \n",
            "3           NaN        NaN        NaN  211.319643         8.106      False  \n",
            "4           NaN        NaN        NaN  211.350143         8.106      False  \n",
            "...         ...        ...        ...         ...           ...        ...  \n",
            "8185       3.00    2449.97    3169.69         NaN           NaN      False  \n",
            "8186     582.74    5797.47    1514.93         NaN           NaN      False  \n",
            "8187      85.72     744.84    2150.36         NaN           NaN      False  \n",
            "8188     204.19     363.00    1059.46         NaN           NaN      False  \n",
            "8189       2.06      10.88    1864.57         NaN           NaN      False  \n",
            "\n",
            "[8190 rows x 12 columns]\n"
          ]
        }
      ]
    },
    {
      "cell_type": "code",
      "source": [
        "print(s_df)"
      ],
      "metadata": {
        "colab": {
          "base_uri": "https://localhost:8080/"
        },
        "id": "1SAWmBuFoiqw",
        "outputId": "0f7622b2-fa12-4231-bd4d-e8247c927882"
      },
      "execution_count": 10,
      "outputs": [
        {
          "output_type": "stream",
          "name": "stdout",
          "text": [
            "    Store Type    Size\n",
            "0       1    A  151315\n",
            "1       2    A  202307\n",
            "2       3    B   37392\n",
            "3       4    A  205863\n",
            "4       5    B   34875\n",
            "5       6    A  202505\n",
            "6       7    B   70713\n",
            "7       8    A  155078\n",
            "8       9    B  125833\n",
            "9      10    B  126512\n",
            "10     11    A  207499\n",
            "11     12    B  112238\n",
            "12     13    A  219622\n",
            "13     14    A  200898\n",
            "14     15    B  123737\n",
            "15     16    B   57197\n",
            "16     17    B   93188\n",
            "17     18    B  120653\n",
            "18     19    A  203819\n",
            "19     20    A  203742\n",
            "20     21    B  140167\n",
            "21     22    B  119557\n",
            "22     23    B  114533\n",
            "23     24    A  203819\n",
            "24     25    B  128107\n",
            "25     26    A  152513\n",
            "26     27    A  204184\n",
            "27     28    A  206302\n",
            "28     29    B   93638\n",
            "29     30    C   42988\n",
            "30     31    A  203750\n",
            "31     32    A  203007\n",
            "32     33    A   39690\n",
            "33     34    A  158114\n",
            "34     35    B  103681\n",
            "35     36    A   39910\n",
            "36     37    C   39910\n",
            "37     38    C   39690\n",
            "38     39    A  184109\n",
            "39     40    A  155083\n",
            "40     41    A  196321\n",
            "41     42    C   39690\n",
            "42     43    C   41062\n",
            "43     44    C   39910\n",
            "44     45    B  118221\n"
          ]
        }
      ]
    },
    {
      "cell_type": "code",
      "source": [
        "features_columns = f_df.columns\n",
        "\n",
        "print(\"All columns of features dataset = {}\".format(features_columns))\n",
        "\n",
        "store_columns = s_df.columns\n",
        "\n",
        "print(\"All columns of store dataset = {}\".format(store_columns))\n",
        "\n",
        "weekly_sales_columns = t_df.columns\n",
        "\n",
        "print(\"All columns of weekly sales dataset = {}\".format(weekly_sales_columns))"
      ],
      "metadata": {
        "colab": {
          "base_uri": "https://localhost:8080/"
        },
        "id": "JqAnlDiWrKnm",
        "outputId": "91f71375-d6c5-4504-ab0e-73f239ead3d9"
      },
      "execution_count": 15,
      "outputs": [
        {
          "output_type": "stream",
          "name": "stdout",
          "text": [
            "All columns of features dataset = Index(['Store', 'Date', 'Temperature', 'Fuel_Price', 'MarkDown1', 'MarkDown2',\n",
            "       'MarkDown3', 'MarkDown4', 'MarkDown5', 'CPI', 'Unemployment',\n",
            "       'IsHoliday'],\n",
            "      dtype='object')\n",
            "All columns of store dataset = Index(['Store', 'Type', 'Size'], dtype='object')\n",
            "All columns of weekly sales dataset = Index(['Store', 'Dept', 'Date', 'Weekly_Sales', 'IsHoliday'], dtype='object')\n"
          ]
        }
      ]
    },
    {
      "cell_type": "markdown",
      "source": [
        "merging stores and features dataframe on store column"
      ],
      "metadata": {
        "id": "NtBI624-pmmY"
      }
    },
    {
      "cell_type": "code",
      "source": [
        "merged_df = f_df.merge(s_df, on='Store')"
      ],
      "metadata": {
        "id": "vrNxvASVpoxA"
      },
      "execution_count": 11,
      "outputs": []
    },
    {
      "cell_type": "code",
      "source": [
        "print(merged_df)"
      ],
      "metadata": {
        "colab": {
          "base_uri": "https://localhost:8080/"
        },
        "id": "fRzxOpqJp9HQ",
        "outputId": "fae19e6f-d971-4e05-fa35-44053e19d598"
      },
      "execution_count": 12,
      "outputs": [
        {
          "output_type": "stream",
          "name": "stdout",
          "text": [
            "      Store        Date  Temperature  Fuel_Price  MarkDown1  MarkDown2  \\\n",
            "0         1  2010-02-05        42.31       2.572        NaN        NaN   \n",
            "1         1  2010-02-12        38.51       2.548        NaN        NaN   \n",
            "2         1  2010-02-19        39.93       2.514        NaN        NaN   \n",
            "3         1  2010-02-26        46.63       2.561        NaN        NaN   \n",
            "4         1  2010-03-05        46.50       2.625        NaN        NaN   \n",
            "...     ...         ...          ...         ...        ...        ...   \n",
            "8185     45  2013-06-28        76.05       3.639    4842.29     975.03   \n",
            "8186     45  2013-07-05        77.50       3.614    9090.48    2268.58   \n",
            "8187     45  2013-07-12        79.37       3.614    3789.94    1827.31   \n",
            "8188     45  2013-07-19        82.84       3.737    2961.49    1047.07   \n",
            "8189     45  2013-07-26        76.06       3.804     212.02     851.73   \n",
            "\n",
            "      MarkDown3  MarkDown4  MarkDown5         CPI  Unemployment  IsHoliday  \\\n",
            "0           NaN        NaN        NaN  211.096358         8.106      False   \n",
            "1           NaN        NaN        NaN  211.242170         8.106       True   \n",
            "2           NaN        NaN        NaN  211.289143         8.106      False   \n",
            "3           NaN        NaN        NaN  211.319643         8.106      False   \n",
            "4           NaN        NaN        NaN  211.350143         8.106      False   \n",
            "...         ...        ...        ...         ...           ...        ...   \n",
            "8185       3.00    2449.97    3169.69         NaN           NaN      False   \n",
            "8186     582.74    5797.47    1514.93         NaN           NaN      False   \n",
            "8187      85.72     744.84    2150.36         NaN           NaN      False   \n",
            "8188     204.19     363.00    1059.46         NaN           NaN      False   \n",
            "8189       2.06      10.88    1864.57         NaN           NaN      False   \n",
            "\n",
            "     Type    Size  \n",
            "0       A  151315  \n",
            "1       A  151315  \n",
            "2       A  151315  \n",
            "3       A  151315  \n",
            "4       A  151315  \n",
            "...   ...     ...  \n",
            "8185    B  118221  \n",
            "8186    B  118221  \n",
            "8187    B  118221  \n",
            "8188    B  118221  \n",
            "8189    B  118221  \n",
            "\n",
            "[8190 rows x 14 columns]\n"
          ]
        }
      ]
    },
    {
      "cell_type": "markdown",
      "source": [
        "Finding columns with NaN values"
      ],
      "metadata": {
        "id": "d3oM8fwqqj0b"
      }
    },
    {
      "cell_type": "code",
      "source": [
        "merged_df_columns = merged_df.columns\n",
        "merged_df_columns_list = merged_df_columns.tolist()"
      ],
      "metadata": {
        "id": "G4ll_XAvqVpQ"
      },
      "execution_count": 17,
      "outputs": []
    },
    {
      "cell_type": "code",
      "source": [
        "merged_df_columns_list"
      ],
      "metadata": {
        "colab": {
          "base_uri": "https://localhost:8080/"
        },
        "id": "ak0kOCAKqvfi",
        "outputId": "3959be75-5c27-4068-81f1-3df6425aca25"
      },
      "execution_count": 18,
      "outputs": [
        {
          "output_type": "execute_result",
          "data": {
            "text/plain": [
              "['Store',\n",
              " 'Date',\n",
              " 'Temperature',\n",
              " 'Fuel_Price',\n",
              " 'MarkDown1',\n",
              " 'MarkDown2',\n",
              " 'MarkDown3',\n",
              " 'MarkDown4',\n",
              " 'MarkDown5',\n",
              " 'CPI',\n",
              " 'Unemployment',\n",
              " 'IsHoliday',\n",
              " 'Type',\n",
              " 'Size']"
            ]
          },
          "metadata": {},
          "execution_count": 18
        }
      ]
    },
    {
      "cell_type": "code",
      "source": [
        "all_na = pd.isna(merged_df)\n",
        "print(all_na)"
      ],
      "metadata": {
        "colab": {
          "base_uri": "https://localhost:8080/"
        },
        "id": "o4AsCxfvtFRg",
        "outputId": "e2d2e051-73e7-4e6d-e284-ebcec627cebf"
      },
      "execution_count": 19,
      "outputs": [
        {
          "output_type": "stream",
          "name": "stdout",
          "text": [
            "      Store   Date  Temperature  Fuel_Price  MarkDown1  MarkDown2  MarkDown3  \\\n",
            "0     False  False        False       False       True       True       True   \n",
            "1     False  False        False       False       True       True       True   \n",
            "2     False  False        False       False       True       True       True   \n",
            "3     False  False        False       False       True       True       True   \n",
            "4     False  False        False       False       True       True       True   \n",
            "...     ...    ...          ...         ...        ...        ...        ...   \n",
            "8185  False  False        False       False      False      False      False   \n",
            "8186  False  False        False       False      False      False      False   \n",
            "8187  False  False        False       False      False      False      False   \n",
            "8188  False  False        False       False      False      False      False   \n",
            "8189  False  False        False       False      False      False      False   \n",
            "\n",
            "      MarkDown4  MarkDown5    CPI  Unemployment  IsHoliday   Type   Size  \n",
            "0          True       True  False         False      False  False  False  \n",
            "1          True       True  False         False      False  False  False  \n",
            "2          True       True  False         False      False  False  False  \n",
            "3          True       True  False         False      False  False  False  \n",
            "4          True       True  False         False      False  False  False  \n",
            "...         ...        ...    ...           ...        ...    ...    ...  \n",
            "8185      False      False   True          True      False  False  False  \n",
            "8186      False      False   True          True      False  False  False  \n",
            "8187      False      False   True          True      False  False  False  \n",
            "8188      False      False   True          True      False  False  False  \n",
            "8189      False      False   True          True      False  False  False  \n",
            "\n",
            "[8190 rows x 14 columns]\n"
          ]
        }
      ]
    },
    {
      "cell_type": "code",
      "source": [
        "na_features = all_na.any()"
      ],
      "metadata": {
        "colab": {
          "base_uri": "https://localhost:8080/"
        },
        "id": "lcJrc3i-tqIo",
        "outputId": "6b198cfb-69d7-41e2-8837-8c844018ac0c"
      },
      "execution_count": 20,
      "outputs": [
        {
          "output_type": "execute_result",
          "data": {
            "text/plain": [
              "Store           False\n",
              "Date            False\n",
              "Temperature     False\n",
              "Fuel_Price      False\n",
              "MarkDown1        True\n",
              "MarkDown2        True\n",
              "MarkDown3        True\n",
              "MarkDown4        True\n",
              "MarkDown5        True\n",
              "CPI              True\n",
              "Unemployment     True\n",
              "IsHoliday       False\n",
              "Type            False\n",
              "Size            False\n",
              "dtype: bool"
            ]
          },
          "metadata": {},
          "execution_count": 20
        }
      ]
    },
    {
      "cell_type": "code",
      "source": [],
      "metadata": {
        "id": "IWDcwr0nt5c5"
      },
      "execution_count": null,
      "outputs": []
    }
  ]
}