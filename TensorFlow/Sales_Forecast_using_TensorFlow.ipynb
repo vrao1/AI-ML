{
  "nbformat": 4,
  "nbformat_minor": 0,
  "metadata": {
    "colab": {
      "provenance": [],
      "authorship_tag": "ABX9TyO75cm9p9uh70rbLC/PoeT7",
      "include_colab_link": true
    },
    "kernelspec": {
      "name": "python3",
      "display_name": "Python 3"
    },
    "language_info": {
      "name": "python"
    }
  },
  "cells": [
    {
      "cell_type": "markdown",
      "metadata": {
        "id": "view-in-github",
        "colab_type": "text"
      },
      "source": [
        "<a href=\"https://colab.research.google.com/github/vrao1/AI-ML/blob/main/TensorFlow/Sales_Forecast_using_TensorFlow.ipynb\" target=\"_parent\"><img src=\"https://colab.research.google.com/assets/colab-badge.svg\" alt=\"Open In Colab\"/></a>"
      ]
    },
    {
      "cell_type": "code",
      "execution_count": 1,
      "metadata": {
        "id": "Z64R7hu0QwyL"
      },
      "outputs": [],
      "source": [
        "import pandas as pd"
      ]
    },
    {
      "cell_type": "markdown",
      "source": [
        "Mounting Google Drive to access **datasets** **bold text**"
      ],
      "metadata": {
        "id": "TmxZb2AZSGfh"
      }
    },
    {
      "cell_type": "code",
      "source": [
        "from google.colab import drive\n",
        "drive.mount('/content/drive')"
      ],
      "metadata": {
        "colab": {
          "base_uri": "https://localhost:8080/"
        },
        "id": "fY2wrRByRaNP",
        "outputId": "674219aa-96b6-4589-e9cd-be323e2028ef"
      },
      "execution_count": 3,
      "outputs": [
        {
          "output_type": "stream",
          "name": "stdout",
          "text": [
            "Drive already mounted at /content/drive; to attempt to forcibly remount, call drive.mount(\"/content/drive\", force_remount=True).\n"
          ]
        }
      ]
    },
    {
      "cell_type": "code",
      "source": [
        "def loadDataframe():\n",
        "  train_df = pd.read_csv('/content/drive/MyDrive/DatasetsForGoogleColabWork/TensorFlow/SalesForcast/weekly_sales.csv')\n",
        "  features_df = pd.read_csv('/content/drive/MyDrive/DatasetsForGoogleColabWork/TensorFlow/SalesForcast/features.csv')\n",
        "  stores_df = pd.read_csv('/content/drive/MyDrive/DatasetsForGoogleColabWork/TensorFlow/SalesForcast/stores.csv')\n",
        "\n",
        "  return (train_df, features_df, stores_df)"
      ],
      "metadata": {
        "id": "le8bAIjdSOKv"
      },
      "execution_count": 4,
      "outputs": []
    },
    {
      "cell_type": "code",
      "source": [
        "(t_df, f_df, s_df) = loadDataframe()"
      ],
      "metadata": {
        "id": "7PUlvYIcTxrV"
      },
      "execution_count": 5,
      "outputs": []
    },
    {
      "cell_type": "code",
      "source": [
        "print(t_df)"
      ],
      "metadata": {
        "colab": {
          "base_uri": "https://localhost:8080/"
        },
        "id": "v2MFk7TEUEfL",
        "outputId": "51c42063-ae20-40b7-90aa-de0f31b46a10"
      },
      "execution_count": 6,
      "outputs": [
        {
          "output_type": "stream",
          "name": "stdout",
          "text": [
            "      Store  Dept        Date  Weekly_Sales  IsHoliday\n",
            "0         1     1  2010-02-05      24924.50      False\n",
            "1         1     1  2010-02-12      46039.49       True\n",
            "2         1     1  2010-02-19      41595.55      False\n",
            "3         1     1  2010-02-26      19403.54      False\n",
            "4         1     1  2010-03-05      21827.90      False\n",
            "...     ...   ...         ...           ...        ...\n",
            "9992      6     8  2010-04-30      47811.70      False\n",
            "9993      6     8  2010-05-07      46289.02      False\n",
            "9994      6     8  2010-05-14      46403.86      False\n",
            "9995      6     8  2010-05-21      46435.02      False\n",
            "9996      6     8  2010-05-28      47246.38      False\n",
            "\n",
            "[9997 rows x 5 columns]\n"
          ]
        }
      ]
    },
    {
      "cell_type": "code",
      "source": [
        "print(f_df)"
      ],
      "metadata": {
        "colab": {
          "base_uri": "https://localhost:8080/"
        },
        "id": "sGEcGfjEU8_M",
        "outputId": "04182540-bb4f-4299-bdc8-a2b5522b348f"
      },
      "execution_count": 7,
      "outputs": [
        {
          "output_type": "stream",
          "name": "stdout",
          "text": [
            "      Store        Date  Temperature  Fuel_Price  MarkDown1  MarkDown2  \\\n",
            "0         1  2010-02-05        42.31       2.572        NaN        NaN   \n",
            "1         1  2010-02-12        38.51       2.548        NaN        NaN   \n",
            "2         1  2010-02-19        39.93       2.514        NaN        NaN   \n",
            "3         1  2010-02-26        46.63       2.561        NaN        NaN   \n",
            "4         1  2010-03-05        46.50       2.625        NaN        NaN   \n",
            "...     ...         ...          ...         ...        ...        ...   \n",
            "8185     45  2013-06-28        76.05       3.639    4842.29     975.03   \n",
            "8186     45  2013-07-05        77.50       3.614    9090.48    2268.58   \n",
            "8187     45  2013-07-12        79.37       3.614    3789.94    1827.31   \n",
            "8188     45  2013-07-19        82.84       3.737    2961.49    1047.07   \n",
            "8189     45  2013-07-26        76.06       3.804     212.02     851.73   \n",
            "\n",
            "      MarkDown3  MarkDown4  MarkDown5         CPI  Unemployment  IsHoliday  \n",
            "0           NaN        NaN        NaN  211.096358         8.106      False  \n",
            "1           NaN        NaN        NaN  211.242170         8.106       True  \n",
            "2           NaN        NaN        NaN  211.289143         8.106      False  \n",
            "3           NaN        NaN        NaN  211.319643         8.106      False  \n",
            "4           NaN        NaN        NaN  211.350143         8.106      False  \n",
            "...         ...        ...        ...         ...           ...        ...  \n",
            "8185       3.00    2449.97    3169.69         NaN           NaN      False  \n",
            "8186     582.74    5797.47    1514.93         NaN           NaN      False  \n",
            "8187      85.72     744.84    2150.36         NaN           NaN      False  \n",
            "8188     204.19     363.00    1059.46         NaN           NaN      False  \n",
            "8189       2.06      10.88    1864.57         NaN           NaN      False  \n",
            "\n",
            "[8190 rows x 12 columns]\n"
          ]
        }
      ]
    },
    {
      "cell_type": "code",
      "source": [
        "print(s_df)"
      ],
      "metadata": {
        "colab": {
          "base_uri": "https://localhost:8080/"
        },
        "id": "1SAWmBuFoiqw",
        "outputId": "196617a0-e1c5-483d-89f2-dbfd5ae5ffda"
      },
      "execution_count": 8,
      "outputs": [
        {
          "output_type": "stream",
          "name": "stdout",
          "text": [
            "    Store Type    Size\n",
            "0       1    A  151315\n",
            "1       2    A  202307\n",
            "2       3    B   37392\n",
            "3       4    A  205863\n",
            "4       5    B   34875\n",
            "5       6    A  202505\n",
            "6       7    B   70713\n",
            "7       8    A  155078\n",
            "8       9    B  125833\n",
            "9      10    B  126512\n",
            "10     11    A  207499\n",
            "11     12    B  112238\n",
            "12     13    A  219622\n",
            "13     14    A  200898\n",
            "14     15    B  123737\n",
            "15     16    B   57197\n",
            "16     17    B   93188\n",
            "17     18    B  120653\n",
            "18     19    A  203819\n",
            "19     20    A  203742\n",
            "20     21    B  140167\n",
            "21     22    B  119557\n",
            "22     23    B  114533\n",
            "23     24    A  203819\n",
            "24     25    B  128107\n",
            "25     26    A  152513\n",
            "26     27    A  204184\n",
            "27     28    A  206302\n",
            "28     29    B   93638\n",
            "29     30    C   42988\n",
            "30     31    A  203750\n",
            "31     32    A  203007\n",
            "32     33    A   39690\n",
            "33     34    A  158114\n",
            "34     35    B  103681\n",
            "35     36    A   39910\n",
            "36     37    C   39910\n",
            "37     38    C   39690\n",
            "38     39    A  184109\n",
            "39     40    A  155083\n",
            "40     41    A  196321\n",
            "41     42    C   39690\n",
            "42     43    C   41062\n",
            "43     44    C   39910\n",
            "44     45    B  118221\n"
          ]
        }
      ]
    },
    {
      "cell_type": "code",
      "source": [
        "features_columns = f_df.columns\n",
        "\n",
        "print(\"All columns of features dataset = {}\".format(features_columns))\n",
        "\n",
        "store_columns = s_df.columns\n",
        "\n",
        "print(\"All columns of store dataset = {}\".format(store_columns))\n",
        "\n",
        "weekly_sales_columns = t_df.columns\n",
        "\n",
        "print(\"All columns of weekly sales dataset = {}\".format(weekly_sales_columns))"
      ],
      "metadata": {
        "colab": {
          "base_uri": "https://localhost:8080/"
        },
        "id": "JqAnlDiWrKnm",
        "outputId": "7593fea3-ddb6-4c54-e6e9-caab384d01e2"
      },
      "execution_count": 9,
      "outputs": [
        {
          "output_type": "stream",
          "name": "stdout",
          "text": [
            "All columns of features dataset = Index(['Store', 'Date', 'Temperature', 'Fuel_Price', 'MarkDown1', 'MarkDown2',\n",
            "       'MarkDown3', 'MarkDown4', 'MarkDown5', 'CPI', 'Unemployment',\n",
            "       'IsHoliday'],\n",
            "      dtype='object')\n",
            "All columns of store dataset = Index(['Store', 'Type', 'Size'], dtype='object')\n",
            "All columns of weekly sales dataset = Index(['Store', 'Dept', 'Date', 'Weekly_Sales', 'IsHoliday'], dtype='object')\n"
          ]
        }
      ]
    },
    {
      "cell_type": "markdown",
      "source": [
        "merging stores and features dataframe on store column"
      ],
      "metadata": {
        "id": "NtBI624-pmmY"
      }
    },
    {
      "cell_type": "code",
      "source": [
        "merged_df = f_df.merge(s_df, on='Store')"
      ],
      "metadata": {
        "id": "vrNxvASVpoxA"
      },
      "execution_count": 10,
      "outputs": []
    },
    {
      "cell_type": "code",
      "source": [
        "print(merged_df)"
      ],
      "metadata": {
        "colab": {
          "base_uri": "https://localhost:8080/"
        },
        "id": "fRzxOpqJp9HQ",
        "outputId": "730171c9-4818-4457-c476-57864ef5787a"
      },
      "execution_count": 11,
      "outputs": [
        {
          "output_type": "stream",
          "name": "stdout",
          "text": [
            "      Store        Date  Temperature  Fuel_Price  MarkDown1  MarkDown2  \\\n",
            "0         1  2010-02-05        42.31       2.572        NaN        NaN   \n",
            "1         1  2010-02-12        38.51       2.548        NaN        NaN   \n",
            "2         1  2010-02-19        39.93       2.514        NaN        NaN   \n",
            "3         1  2010-02-26        46.63       2.561        NaN        NaN   \n",
            "4         1  2010-03-05        46.50       2.625        NaN        NaN   \n",
            "...     ...         ...          ...         ...        ...        ...   \n",
            "8185     45  2013-06-28        76.05       3.639    4842.29     975.03   \n",
            "8186     45  2013-07-05        77.50       3.614    9090.48    2268.58   \n",
            "8187     45  2013-07-12        79.37       3.614    3789.94    1827.31   \n",
            "8188     45  2013-07-19        82.84       3.737    2961.49    1047.07   \n",
            "8189     45  2013-07-26        76.06       3.804     212.02     851.73   \n",
            "\n",
            "      MarkDown3  MarkDown4  MarkDown5         CPI  Unemployment  IsHoliday  \\\n",
            "0           NaN        NaN        NaN  211.096358         8.106      False   \n",
            "1           NaN        NaN        NaN  211.242170         8.106       True   \n",
            "2           NaN        NaN        NaN  211.289143         8.106      False   \n",
            "3           NaN        NaN        NaN  211.319643         8.106      False   \n",
            "4           NaN        NaN        NaN  211.350143         8.106      False   \n",
            "...         ...        ...        ...         ...           ...        ...   \n",
            "8185       3.00    2449.97    3169.69         NaN           NaN      False   \n",
            "8186     582.74    5797.47    1514.93         NaN           NaN      False   \n",
            "8187      85.72     744.84    2150.36         NaN           NaN      False   \n",
            "8188     204.19     363.00    1059.46         NaN           NaN      False   \n",
            "8189       2.06      10.88    1864.57         NaN           NaN      False   \n",
            "\n",
            "     Type    Size  \n",
            "0       A  151315  \n",
            "1       A  151315  \n",
            "2       A  151315  \n",
            "3       A  151315  \n",
            "4       A  151315  \n",
            "...   ...     ...  \n",
            "8185    B  118221  \n",
            "8186    B  118221  \n",
            "8187    B  118221  \n",
            "8188    B  118221  \n",
            "8189    B  118221  \n",
            "\n",
            "[8190 rows x 14 columns]\n"
          ]
        }
      ]
    },
    {
      "cell_type": "markdown",
      "source": [
        "Finding columns with NaN values"
      ],
      "metadata": {
        "id": "d3oM8fwqqj0b"
      }
    },
    {
      "cell_type": "code",
      "source": [
        "merged_df_columns = merged_df.columns\n",
        "merged_df_columns_list = merged_df_columns.tolist()"
      ],
      "metadata": {
        "id": "G4ll_XAvqVpQ"
      },
      "execution_count": 12,
      "outputs": []
    },
    {
      "cell_type": "code",
      "source": [
        "merged_df_columns_list"
      ],
      "metadata": {
        "colab": {
          "base_uri": "https://localhost:8080/"
        },
        "id": "ak0kOCAKqvfi",
        "outputId": "edd8ded6-7b0c-42a5-e710-04a03f9454df"
      },
      "execution_count": 13,
      "outputs": [
        {
          "output_type": "execute_result",
          "data": {
            "text/plain": [
              "['Store',\n",
              " 'Date',\n",
              " 'Temperature',\n",
              " 'Fuel_Price',\n",
              " 'MarkDown1',\n",
              " 'MarkDown2',\n",
              " 'MarkDown3',\n",
              " 'MarkDown4',\n",
              " 'MarkDown5',\n",
              " 'CPI',\n",
              " 'Unemployment',\n",
              " 'IsHoliday',\n",
              " 'Type',\n",
              " 'Size']"
            ]
          },
          "metadata": {},
          "execution_count": 13
        }
      ]
    },
    {
      "cell_type": "code",
      "source": [
        "all_na = pd.isna(merged_df)\n",
        "print(all_na)"
      ],
      "metadata": {
        "colab": {
          "base_uri": "https://localhost:8080/"
        },
        "id": "o4AsCxfvtFRg",
        "outputId": "b6418fe1-7753-42c6-e8f9-1a09fd91bee5"
      },
      "execution_count": 14,
      "outputs": [
        {
          "output_type": "stream",
          "name": "stdout",
          "text": [
            "      Store   Date  Temperature  Fuel_Price  MarkDown1  MarkDown2  MarkDown3  \\\n",
            "0     False  False        False       False       True       True       True   \n",
            "1     False  False        False       False       True       True       True   \n",
            "2     False  False        False       False       True       True       True   \n",
            "3     False  False        False       False       True       True       True   \n",
            "4     False  False        False       False       True       True       True   \n",
            "...     ...    ...          ...         ...        ...        ...        ...   \n",
            "8185  False  False        False       False      False      False      False   \n",
            "8186  False  False        False       False      False      False      False   \n",
            "8187  False  False        False       False      False      False      False   \n",
            "8188  False  False        False       False      False      False      False   \n",
            "8189  False  False        False       False      False      False      False   \n",
            "\n",
            "      MarkDown4  MarkDown5    CPI  Unemployment  IsHoliday   Type   Size  \n",
            "0          True       True  False         False      False  False  False  \n",
            "1          True       True  False         False      False  False  False  \n",
            "2          True       True  False         False      False  False  False  \n",
            "3          True       True  False         False      False  False  False  \n",
            "4          True       True  False         False      False  False  False  \n",
            "...         ...        ...    ...           ...        ...    ...    ...  \n",
            "8185      False      False   True          True      False  False  False  \n",
            "8186      False      False   True          True      False  False  False  \n",
            "8187      False      False   True          True      False  False  False  \n",
            "8188      False      False   True          True      False  False  False  \n",
            "8189      False      False   True          True      False  False  False  \n",
            "\n",
            "[8190 rows x 14 columns]\n"
          ]
        }
      ]
    },
    {
      "cell_type": "code",
      "source": [
        "na_features = all_na.any()\n",
        "print(na_features)"
      ],
      "metadata": {
        "colab": {
          "base_uri": "https://localhost:8080/"
        },
        "id": "lcJrc3i-tqIo",
        "outputId": "144497d6-eeea-4ed5-b260-13a9285cb95d"
      },
      "execution_count": 15,
      "outputs": [
        {
          "output_type": "stream",
          "name": "stdout",
          "text": [
            "Store           False\n",
            "Date            False\n",
            "Temperature     False\n",
            "Fuel_Price      False\n",
            "MarkDown1        True\n",
            "MarkDown2        True\n",
            "MarkDown3        True\n",
            "MarkDown4        True\n",
            "MarkDown5        True\n",
            "CPI              True\n",
            "Unemployment     True\n",
            "IsHoliday       False\n",
            "Type            False\n",
            "Size            False\n",
            "dtype: bool\n"
          ]
        }
      ]
    },
    {
      "cell_type": "markdown",
      "source": [
        "Count number of null values for each column"
      ],
      "metadata": {
        "id": "YwHjmFoIvSpv"
      }
    },
    {
      "cell_type": "code",
      "source": [
        "print(len(all_na))"
      ],
      "metadata": {
        "colab": {
          "base_uri": "https://localhost:8080/"
        },
        "id": "IWDcwr0nt5c5",
        "outputId": "44d3b89e-772d-4b2a-b29c-fed2637b837e"
      },
      "execution_count": 16,
      "outputs": [
        {
          "output_type": "stream",
          "name": "stdout",
          "text": [
            "8190\n"
          ]
        }
      ]
    },
    {
      "cell_type": "code",
      "source": [
        "print(sum(all_na['MarkDown1']))"
      ],
      "metadata": {
        "colab": {
          "base_uri": "https://localhost:8080/"
        },
        "id": "4TLGb-JKvpUZ",
        "outputId": "1ee89391-f662-43dc-a4bb-14cba10a9a27"
      },
      "execution_count": 17,
      "outputs": [
        {
          "output_type": "stream",
          "name": "stdout",
          "text": [
            "4158\n"
          ]
        }
      ]
    },
    {
      "cell_type": "code",
      "source": [
        "print(sum(all_na['MarkDown2']))"
      ],
      "metadata": {
        "colab": {
          "base_uri": "https://localhost:8080/"
        },
        "id": "tZozR6FSw5IQ",
        "outputId": "c16a7d13-e039-4040-b038-26cf36c34e84"
      },
      "execution_count": 18,
      "outputs": [
        {
          "output_type": "stream",
          "name": "stdout",
          "text": [
            "5269\n"
          ]
        }
      ]
    },
    {
      "cell_type": "code",
      "source": [
        "print(sum(all_na['MarkDown3']))"
      ],
      "metadata": {
        "colab": {
          "base_uri": "https://localhost:8080/"
        },
        "id": "LBn_53B0xF8E",
        "outputId": "d4654358-6a0a-4ba0-b4a5-98af0426026e"
      },
      "execution_count": 19,
      "outputs": [
        {
          "output_type": "stream",
          "name": "stdout",
          "text": [
            "4577\n"
          ]
        }
      ]
    },
    {
      "cell_type": "code",
      "source": [
        "print(sum(all_na['MarkDown4']))"
      ],
      "metadata": {
        "colab": {
          "base_uri": "https://localhost:8080/"
        },
        "id": "wkf31N7MxJMM",
        "outputId": "bb1b7266-0f13-47d2-f40f-ac7c7385bdff"
      },
      "execution_count": 20,
      "outputs": [
        {
          "output_type": "stream",
          "name": "stdout",
          "text": [
            "4726\n"
          ]
        }
      ]
    },
    {
      "cell_type": "code",
      "source": [
        "print(sum(all_na['MarkDown5']))"
      ],
      "metadata": {
        "colab": {
          "base_uri": "https://localhost:8080/"
        },
        "id": "9FsC0oq_xMzA",
        "outputId": "0b1222b2-03eb-46e3-abb1-b4cd3b5d8494"
      },
      "execution_count": 21,
      "outputs": [
        {
          "output_type": "stream",
          "name": "stdout",
          "text": [
            "4140\n"
          ]
        }
      ]
    },
    {
      "cell_type": "code",
      "source": [
        "print(sum(all_na['CPI']))"
      ],
      "metadata": {
        "colab": {
          "base_uri": "https://localhost:8080/"
        },
        "id": "cVMv2krwxP5k",
        "outputId": "37fd0b26-f5f1-442f-d5e4-1b11462613b4"
      },
      "execution_count": 22,
      "outputs": [
        {
          "output_type": "stream",
          "name": "stdout",
          "text": [
            "585\n"
          ]
        }
      ]
    },
    {
      "cell_type": "code",
      "source": [
        "print(sum(all_na['Unemployment']))"
      ],
      "metadata": {
        "colab": {
          "base_uri": "https://localhost:8080/"
        },
        "id": "f_fYi9WWxQNR",
        "outputId": "2115fcf1-4f52-4d1c-a554-7bfc957d6ddf"
      },
      "execution_count": 23,
      "outputs": [
        {
          "output_type": "stream",
          "name": "stdout",
          "text": [
            "585\n"
          ]
        }
      ]
    },
    {
      "cell_type": "markdown",
      "source": [
        "All markdown columns values have more or less 50% of entries are missing or null, hence dropping these columns"
      ],
      "metadata": {
        "id": "TpVTX2hWyjVP"
      }
    },
    {
      "cell_type": "code",
      "source": [
        "merged_df.columns"
      ],
      "metadata": {
        "colab": {
          "base_uri": "https://localhost:8080/"
        },
        "id": "dGD3qZiPzNgi",
        "outputId": "c912b23b-ec0c-4245-ffe9-cd566639f763"
      },
      "execution_count": 24,
      "outputs": [
        {
          "output_type": "execute_result",
          "data": {
            "text/plain": [
              "Index(['Store', 'Date', 'Temperature', 'Fuel_Price', 'MarkDown1', 'MarkDown2',\n",
              "       'MarkDown3', 'MarkDown4', 'MarkDown5', 'CPI', 'Unemployment',\n",
              "       'IsHoliday', 'Type', 'Size'],\n",
              "      dtype='object')"
            ]
          },
          "metadata": {},
          "execution_count": 24
        }
      ]
    },
    {
      "cell_type": "code",
      "source": [
        "\n",
        "all_markdown_columns = ['MarkDown1', 'MarkDown2', 'MarkDown3', 'MarkDown4', 'MarkDown5']\n",
        "merged_df = merged_df.drop(columns=all_markdown_columns)\n",
        "\n",
        "merged_df.columns"
      ],
      "metadata": {
        "colab": {
          "base_uri": "https://localhost:8080/"
        },
        "id": "wDI5tRP4xaze",
        "outputId": "fc8e285d-59b6-49fd-fc8d-829f427a96cd"
      },
      "execution_count": 25,
      "outputs": [
        {
          "output_type": "execute_result",
          "data": {
            "text/plain": [
              "Index(['Store', 'Date', 'Temperature', 'Fuel_Price', 'CPI', 'Unemployment',\n",
              "       'IsHoliday', 'Type', 'Size'],\n",
              "      dtype='object')"
            ]
          },
          "metadata": {},
          "execution_count": 25
        }
      ]
    },
    {
      "cell_type": "markdown",
      "source": [
        "CPI and unemployment have 585 << 8190 so we are not dropping. Instead we will fill up or impute their missing values.\n",
        "\n",
        "Finding na values from these two columns"
      ],
      "metadata": {
        "id": "cg7Kc8onzi_V"
      }
    },
    {
      "cell_type": "code",
      "source": [
        "na_values_cpi = all_na['CPI'].astype(int)"
      ],
      "metadata": {
        "id": "wStrDpppzWGx"
      },
      "execution_count": 26,
      "outputs": []
    },
    {
      "cell_type": "code",
      "source": [
        "na_values_une = all_na['Unemployment'].astype(int)"
      ],
      "metadata": {
        "id": "NRUbI0NaJAxY"
      },
      "execution_count": 27,
      "outputs": []
    },
    {
      "cell_type": "code",
      "source": [
        "na_values_cpi.to_numpy().nonzero()"
      ],
      "metadata": {
        "colab": {
          "base_uri": "https://localhost:8080/"
        },
        "id": "6ecNQ5rIKMZY",
        "outputId": "e2fa0e4e-a4fc-4c02-d970-db8cea2c718a"
      },
      "execution_count": 28,
      "outputs": [
        {
          "output_type": "execute_result",
          "data": {
            "text/plain": [
              "(array([ 169,  170,  171,  172,  173,  174,  175,  176,  177,  178,  179,\n",
              "         180,  181,  351,  352,  353,  354,  355,  356,  357,  358,  359,\n",
              "         360,  361,  362,  363,  533,  534,  535,  536,  537,  538,  539,\n",
              "         540,  541,  542,  543,  544,  545,  715,  716,  717,  718,  719,\n",
              "         720,  721,  722,  723,  724,  725,  726,  727,  897,  898,  899,\n",
              "         900,  901,  902,  903,  904,  905,  906,  907,  908,  909, 1079,\n",
              "        1080, 1081, 1082, 1083, 1084, 1085, 1086, 1087, 1088, 1089, 1090,\n",
              "        1091, 1261, 1262, 1263, 1264, 1265, 1266, 1267, 1268, 1269, 1270,\n",
              "        1271, 1272, 1273, 1443, 1444, 1445, 1446, 1447, 1448, 1449, 1450,\n",
              "        1451, 1452, 1453, 1454, 1455, 1625, 1626, 1627, 1628, 1629, 1630,\n",
              "        1631, 1632, 1633, 1634, 1635, 1636, 1637, 1807, 1808, 1809, 1810,\n",
              "        1811, 1812, 1813, 1814, 1815, 1816, 1817, 1818, 1819, 1989, 1990,\n",
              "        1991, 1992, 1993, 1994, 1995, 1996, 1997, 1998, 1999, 2000, 2001,\n",
              "        2171, 2172, 2173, 2174, 2175, 2176, 2177, 2178, 2179, 2180, 2181,\n",
              "        2182, 2183, 2353, 2354, 2355, 2356, 2357, 2358, 2359, 2360, 2361,\n",
              "        2362, 2363, 2364, 2365, 2535, 2536, 2537, 2538, 2539, 2540, 2541,\n",
              "        2542, 2543, 2544, 2545, 2546, 2547, 2717, 2718, 2719, 2720, 2721,\n",
              "        2722, 2723, 2724, 2725, 2726, 2727, 2728, 2729, 2899, 2900, 2901,\n",
              "        2902, 2903, 2904, 2905, 2906, 2907, 2908, 2909, 2910, 2911, 3081,\n",
              "        3082, 3083, 3084, 3085, 3086, 3087, 3088, 3089, 3090, 3091, 3092,\n",
              "        3093, 3263, 3264, 3265, 3266, 3267, 3268, 3269, 3270, 3271, 3272,\n",
              "        3273, 3274, 3275, 3445, 3446, 3447, 3448, 3449, 3450, 3451, 3452,\n",
              "        3453, 3454, 3455, 3456, 3457, 3627, 3628, 3629, 3630, 3631, 3632,\n",
              "        3633, 3634, 3635, 3636, 3637, 3638, 3639, 3809, 3810, 3811, 3812,\n",
              "        3813, 3814, 3815, 3816, 3817, 3818, 3819, 3820, 3821, 3991, 3992,\n",
              "        3993, 3994, 3995, 3996, 3997, 3998, 3999, 4000, 4001, 4002, 4003,\n",
              "        4173, 4174, 4175, 4176, 4177, 4178, 4179, 4180, 4181, 4182, 4183,\n",
              "        4184, 4185, 4355, 4356, 4357, 4358, 4359, 4360, 4361, 4362, 4363,\n",
              "        4364, 4365, 4366, 4367, 4537, 4538, 4539, 4540, 4541, 4542, 4543,\n",
              "        4544, 4545, 4546, 4547, 4548, 4549, 4719, 4720, 4721, 4722, 4723,\n",
              "        4724, 4725, 4726, 4727, 4728, 4729, 4730, 4731, 4901, 4902, 4903,\n",
              "        4904, 4905, 4906, 4907, 4908, 4909, 4910, 4911, 4912, 4913, 5083,\n",
              "        5084, 5085, 5086, 5087, 5088, 5089, 5090, 5091, 5092, 5093, 5094,\n",
              "        5095, 5265, 5266, 5267, 5268, 5269, 5270, 5271, 5272, 5273, 5274,\n",
              "        5275, 5276, 5277, 5447, 5448, 5449, 5450, 5451, 5452, 5453, 5454,\n",
              "        5455, 5456, 5457, 5458, 5459, 5629, 5630, 5631, 5632, 5633, 5634,\n",
              "        5635, 5636, 5637, 5638, 5639, 5640, 5641, 5811, 5812, 5813, 5814,\n",
              "        5815, 5816, 5817, 5818, 5819, 5820, 5821, 5822, 5823, 5993, 5994,\n",
              "        5995, 5996, 5997, 5998, 5999, 6000, 6001, 6002, 6003, 6004, 6005,\n",
              "        6175, 6176, 6177, 6178, 6179, 6180, 6181, 6182, 6183, 6184, 6185,\n",
              "        6186, 6187, 6357, 6358, 6359, 6360, 6361, 6362, 6363, 6364, 6365,\n",
              "        6366, 6367, 6368, 6369, 6539, 6540, 6541, 6542, 6543, 6544, 6545,\n",
              "        6546, 6547, 6548, 6549, 6550, 6551, 6721, 6722, 6723, 6724, 6725,\n",
              "        6726, 6727, 6728, 6729, 6730, 6731, 6732, 6733, 6903, 6904, 6905,\n",
              "        6906, 6907, 6908, 6909, 6910, 6911, 6912, 6913, 6914, 6915, 7085,\n",
              "        7086, 7087, 7088, 7089, 7090, 7091, 7092, 7093, 7094, 7095, 7096,\n",
              "        7097, 7267, 7268, 7269, 7270, 7271, 7272, 7273, 7274, 7275, 7276,\n",
              "        7277, 7278, 7279, 7449, 7450, 7451, 7452, 7453, 7454, 7455, 7456,\n",
              "        7457, 7458, 7459, 7460, 7461, 7631, 7632, 7633, 7634, 7635, 7636,\n",
              "        7637, 7638, 7639, 7640, 7641, 7642, 7643, 7813, 7814, 7815, 7816,\n",
              "        7817, 7818, 7819, 7820, 7821, 7822, 7823, 7824, 7825, 7995, 7996,\n",
              "        7997, 7998, 7999, 8000, 8001, 8002, 8003, 8004, 8005, 8006, 8007,\n",
              "        8177, 8178, 8179, 8180, 8181, 8182, 8183, 8184, 8185, 8186, 8187,\n",
              "        8188, 8189]),)"
            ]
          },
          "metadata": {},
          "execution_count": 28
        }
      ]
    },
    {
      "cell_type": "code",
      "source": [
        "na_values_cpi_indices = na_values_cpi.to_numpy().nonzero()[0]"
      ],
      "metadata": {
        "id": "q0cHyF5UKQfR"
      },
      "execution_count": 29,
      "outputs": []
    },
    {
      "cell_type": "code",
      "source": [
        "na_values_une_indices = na_values_une.to_numpy().nonzero()[0]"
      ],
      "metadata": {
        "id": "pTP3mUqcMaVt"
      },
      "execution_count": 30,
      "outputs": []
    },
    {
      "cell_type": "code",
      "source": [
        "na_values_une_indices"
      ],
      "metadata": {
        "colab": {
          "base_uri": "https://localhost:8080/"
        },
        "id": "eB9-OgrHdRw0",
        "outputId": "a7707979-3001-4d84-8e1f-5073c978a4d2"
      },
      "execution_count": 31,
      "outputs": [
        {
          "output_type": "execute_result",
          "data": {
            "text/plain": [
              "array([ 169,  170,  171,  172,  173,  174,  175,  176,  177,  178,  179,\n",
              "        180,  181,  351,  352,  353,  354,  355,  356,  357,  358,  359,\n",
              "        360,  361,  362,  363,  533,  534,  535,  536,  537,  538,  539,\n",
              "        540,  541,  542,  543,  544,  545,  715,  716,  717,  718,  719,\n",
              "        720,  721,  722,  723,  724,  725,  726,  727,  897,  898,  899,\n",
              "        900,  901,  902,  903,  904,  905,  906,  907,  908,  909, 1079,\n",
              "       1080, 1081, 1082, 1083, 1084, 1085, 1086, 1087, 1088, 1089, 1090,\n",
              "       1091, 1261, 1262, 1263, 1264, 1265, 1266, 1267, 1268, 1269, 1270,\n",
              "       1271, 1272, 1273, 1443, 1444, 1445, 1446, 1447, 1448, 1449, 1450,\n",
              "       1451, 1452, 1453, 1454, 1455, 1625, 1626, 1627, 1628, 1629, 1630,\n",
              "       1631, 1632, 1633, 1634, 1635, 1636, 1637, 1807, 1808, 1809, 1810,\n",
              "       1811, 1812, 1813, 1814, 1815, 1816, 1817, 1818, 1819, 1989, 1990,\n",
              "       1991, 1992, 1993, 1994, 1995, 1996, 1997, 1998, 1999, 2000, 2001,\n",
              "       2171, 2172, 2173, 2174, 2175, 2176, 2177, 2178, 2179, 2180, 2181,\n",
              "       2182, 2183, 2353, 2354, 2355, 2356, 2357, 2358, 2359, 2360, 2361,\n",
              "       2362, 2363, 2364, 2365, 2535, 2536, 2537, 2538, 2539, 2540, 2541,\n",
              "       2542, 2543, 2544, 2545, 2546, 2547, 2717, 2718, 2719, 2720, 2721,\n",
              "       2722, 2723, 2724, 2725, 2726, 2727, 2728, 2729, 2899, 2900, 2901,\n",
              "       2902, 2903, 2904, 2905, 2906, 2907, 2908, 2909, 2910, 2911, 3081,\n",
              "       3082, 3083, 3084, 3085, 3086, 3087, 3088, 3089, 3090, 3091, 3092,\n",
              "       3093, 3263, 3264, 3265, 3266, 3267, 3268, 3269, 3270, 3271, 3272,\n",
              "       3273, 3274, 3275, 3445, 3446, 3447, 3448, 3449, 3450, 3451, 3452,\n",
              "       3453, 3454, 3455, 3456, 3457, 3627, 3628, 3629, 3630, 3631, 3632,\n",
              "       3633, 3634, 3635, 3636, 3637, 3638, 3639, 3809, 3810, 3811, 3812,\n",
              "       3813, 3814, 3815, 3816, 3817, 3818, 3819, 3820, 3821, 3991, 3992,\n",
              "       3993, 3994, 3995, 3996, 3997, 3998, 3999, 4000, 4001, 4002, 4003,\n",
              "       4173, 4174, 4175, 4176, 4177, 4178, 4179, 4180, 4181, 4182, 4183,\n",
              "       4184, 4185, 4355, 4356, 4357, 4358, 4359, 4360, 4361, 4362, 4363,\n",
              "       4364, 4365, 4366, 4367, 4537, 4538, 4539, 4540, 4541, 4542, 4543,\n",
              "       4544, 4545, 4546, 4547, 4548, 4549, 4719, 4720, 4721, 4722, 4723,\n",
              "       4724, 4725, 4726, 4727, 4728, 4729, 4730, 4731, 4901, 4902, 4903,\n",
              "       4904, 4905, 4906, 4907, 4908, 4909, 4910, 4911, 4912, 4913, 5083,\n",
              "       5084, 5085, 5086, 5087, 5088, 5089, 5090, 5091, 5092, 5093, 5094,\n",
              "       5095, 5265, 5266, 5267, 5268, 5269, 5270, 5271, 5272, 5273, 5274,\n",
              "       5275, 5276, 5277, 5447, 5448, 5449, 5450, 5451, 5452, 5453, 5454,\n",
              "       5455, 5456, 5457, 5458, 5459, 5629, 5630, 5631, 5632, 5633, 5634,\n",
              "       5635, 5636, 5637, 5638, 5639, 5640, 5641, 5811, 5812, 5813, 5814,\n",
              "       5815, 5816, 5817, 5818, 5819, 5820, 5821, 5822, 5823, 5993, 5994,\n",
              "       5995, 5996, 5997, 5998, 5999, 6000, 6001, 6002, 6003, 6004, 6005,\n",
              "       6175, 6176, 6177, 6178, 6179, 6180, 6181, 6182, 6183, 6184, 6185,\n",
              "       6186, 6187, 6357, 6358, 6359, 6360, 6361, 6362, 6363, 6364, 6365,\n",
              "       6366, 6367, 6368, 6369, 6539, 6540, 6541, 6542, 6543, 6544, 6545,\n",
              "       6546, 6547, 6548, 6549, 6550, 6551, 6721, 6722, 6723, 6724, 6725,\n",
              "       6726, 6727, 6728, 6729, 6730, 6731, 6732, 6733, 6903, 6904, 6905,\n",
              "       6906, 6907, 6908, 6909, 6910, 6911, 6912, 6913, 6914, 6915, 7085,\n",
              "       7086, 7087, 7088, 7089, 7090, 7091, 7092, 7093, 7094, 7095, 7096,\n",
              "       7097, 7267, 7268, 7269, 7270, 7271, 7272, 7273, 7274, 7275, 7276,\n",
              "       7277, 7278, 7279, 7449, 7450, 7451, 7452, 7453, 7454, 7455, 7456,\n",
              "       7457, 7458, 7459, 7460, 7461, 7631, 7632, 7633, 7634, 7635, 7636,\n",
              "       7637, 7638, 7639, 7640, 7641, 7642, 7643, 7813, 7814, 7815, 7816,\n",
              "       7817, 7818, 7819, 7820, 7821, 7822, 7823, 7824, 7825, 7995, 7996,\n",
              "       7997, 7998, 7999, 8000, 8001, 8002, 8003, 8004, 8005, 8006, 8007,\n",
              "       8177, 8178, 8179, 8180, 8181, 8182, 8183, 8184, 8185, 8186, 8187,\n",
              "       8188, 8189])"
            ]
          },
          "metadata": {},
          "execution_count": 31
        }
      ]
    },
    {
      "cell_type": "code",
      "source": [
        "import numpy as np\n",
        "\n",
        "print(np.array_equal(na_values_cpi_indices, na_values_une_indices))"
      ],
      "metadata": {
        "colab": {
          "base_uri": "https://localhost:8080/"
        },
        "id": "dn1LNB4SdTsS",
        "outputId": "1b6d1c98-26c3-4e18-afd2-7cadc99bb86a"
      },
      "execution_count": 32,
      "outputs": [
        {
          "output_type": "stream",
          "name": "stdout",
          "text": [
            "True\n"
          ]
        }
      ]
    },
    {
      "cell_type": "code",
      "source": [
        "na_indices = na_values_cpi_indices\n",
        "\n",
        "na_rows = merged_df.iloc[na_indices]\n",
        "na_rows"
      ],
      "metadata": {
        "colab": {
          "base_uri": "https://localhost:8080/",
          "height": 424
        },
        "id": "hcoD1MnreIek",
        "outputId": "4e798f3f-fd50-4756-8198-f94f998c5a6c"
      },
      "execution_count": 33,
      "outputs": [
        {
          "output_type": "execute_result",
          "data": {
            "text/plain": [
              "      Store        Date  Temperature  Fuel_Price  CPI  Unemployment  \\\n",
              "169       1  2013-05-03        66.66       3.386  NaN           NaN   \n",
              "170       1  2013-05-10        63.90       3.392  NaN           NaN   \n",
              "171       1  2013-05-17        69.53       3.454  NaN           NaN   \n",
              "172       1  2013-05-24        77.19       3.494  NaN           NaN   \n",
              "173       1  2013-05-31        78.02       3.466  NaN           NaN   \n",
              "...     ...         ...          ...         ...  ...           ...   \n",
              "8185     45  2013-06-28        76.05       3.639  NaN           NaN   \n",
              "8186     45  2013-07-05        77.50       3.614  NaN           NaN   \n",
              "8187     45  2013-07-12        79.37       3.614  NaN           NaN   \n",
              "8188     45  2013-07-19        82.84       3.737  NaN           NaN   \n",
              "8189     45  2013-07-26        76.06       3.804  NaN           NaN   \n",
              "\n",
              "      IsHoliday Type    Size  \n",
              "169       False    A  151315  \n",
              "170       False    A  151315  \n",
              "171       False    A  151315  \n",
              "172       False    A  151315  \n",
              "173       False    A  151315  \n",
              "...         ...  ...     ...  \n",
              "8185      False    B  118221  \n",
              "8186      False    B  118221  \n",
              "8187      False    B  118221  \n",
              "8188      False    B  118221  \n",
              "8189      False    B  118221  \n",
              "\n",
              "[585 rows x 9 columns]"
            ],
            "text/html": [
              "\n",
              "  <div id=\"df-8b60a603-f603-4f23-95de-ffd82a306b5a\" class=\"colab-df-container\">\n",
              "    <div>\n",
              "<style scoped>\n",
              "    .dataframe tbody tr th:only-of-type {\n",
              "        vertical-align: middle;\n",
              "    }\n",
              "\n",
              "    .dataframe tbody tr th {\n",
              "        vertical-align: top;\n",
              "    }\n",
              "\n",
              "    .dataframe thead th {\n",
              "        text-align: right;\n",
              "    }\n",
              "</style>\n",
              "<table border=\"1\" class=\"dataframe\">\n",
              "  <thead>\n",
              "    <tr style=\"text-align: right;\">\n",
              "      <th></th>\n",
              "      <th>Store</th>\n",
              "      <th>Date</th>\n",
              "      <th>Temperature</th>\n",
              "      <th>Fuel_Price</th>\n",
              "      <th>CPI</th>\n",
              "      <th>Unemployment</th>\n",
              "      <th>IsHoliday</th>\n",
              "      <th>Type</th>\n",
              "      <th>Size</th>\n",
              "    </tr>\n",
              "  </thead>\n",
              "  <tbody>\n",
              "    <tr>\n",
              "      <th>169</th>\n",
              "      <td>1</td>\n",
              "      <td>2013-05-03</td>\n",
              "      <td>66.66</td>\n",
              "      <td>3.386</td>\n",
              "      <td>NaN</td>\n",
              "      <td>NaN</td>\n",
              "      <td>False</td>\n",
              "      <td>A</td>\n",
              "      <td>151315</td>\n",
              "    </tr>\n",
              "    <tr>\n",
              "      <th>170</th>\n",
              "      <td>1</td>\n",
              "      <td>2013-05-10</td>\n",
              "      <td>63.90</td>\n",
              "      <td>3.392</td>\n",
              "      <td>NaN</td>\n",
              "      <td>NaN</td>\n",
              "      <td>False</td>\n",
              "      <td>A</td>\n",
              "      <td>151315</td>\n",
              "    </tr>\n",
              "    <tr>\n",
              "      <th>171</th>\n",
              "      <td>1</td>\n",
              "      <td>2013-05-17</td>\n",
              "      <td>69.53</td>\n",
              "      <td>3.454</td>\n",
              "      <td>NaN</td>\n",
              "      <td>NaN</td>\n",
              "      <td>False</td>\n",
              "      <td>A</td>\n",
              "      <td>151315</td>\n",
              "    </tr>\n",
              "    <tr>\n",
              "      <th>172</th>\n",
              "      <td>1</td>\n",
              "      <td>2013-05-24</td>\n",
              "      <td>77.19</td>\n",
              "      <td>3.494</td>\n",
              "      <td>NaN</td>\n",
              "      <td>NaN</td>\n",
              "      <td>False</td>\n",
              "      <td>A</td>\n",
              "      <td>151315</td>\n",
              "    </tr>\n",
              "    <tr>\n",
              "      <th>173</th>\n",
              "      <td>1</td>\n",
              "      <td>2013-05-31</td>\n",
              "      <td>78.02</td>\n",
              "      <td>3.466</td>\n",
              "      <td>NaN</td>\n",
              "      <td>NaN</td>\n",
              "      <td>False</td>\n",
              "      <td>A</td>\n",
              "      <td>151315</td>\n",
              "    </tr>\n",
              "    <tr>\n",
              "      <th>...</th>\n",
              "      <td>...</td>\n",
              "      <td>...</td>\n",
              "      <td>...</td>\n",
              "      <td>...</td>\n",
              "      <td>...</td>\n",
              "      <td>...</td>\n",
              "      <td>...</td>\n",
              "      <td>...</td>\n",
              "      <td>...</td>\n",
              "    </tr>\n",
              "    <tr>\n",
              "      <th>8185</th>\n",
              "      <td>45</td>\n",
              "      <td>2013-06-28</td>\n",
              "      <td>76.05</td>\n",
              "      <td>3.639</td>\n",
              "      <td>NaN</td>\n",
              "      <td>NaN</td>\n",
              "      <td>False</td>\n",
              "      <td>B</td>\n",
              "      <td>118221</td>\n",
              "    </tr>\n",
              "    <tr>\n",
              "      <th>8186</th>\n",
              "      <td>45</td>\n",
              "      <td>2013-07-05</td>\n",
              "      <td>77.50</td>\n",
              "      <td>3.614</td>\n",
              "      <td>NaN</td>\n",
              "      <td>NaN</td>\n",
              "      <td>False</td>\n",
              "      <td>B</td>\n",
              "      <td>118221</td>\n",
              "    </tr>\n",
              "    <tr>\n",
              "      <th>8187</th>\n",
              "      <td>45</td>\n",
              "      <td>2013-07-12</td>\n",
              "      <td>79.37</td>\n",
              "      <td>3.614</td>\n",
              "      <td>NaN</td>\n",
              "      <td>NaN</td>\n",
              "      <td>False</td>\n",
              "      <td>B</td>\n",
              "      <td>118221</td>\n",
              "    </tr>\n",
              "    <tr>\n",
              "      <th>8188</th>\n",
              "      <td>45</td>\n",
              "      <td>2013-07-19</td>\n",
              "      <td>82.84</td>\n",
              "      <td>3.737</td>\n",
              "      <td>NaN</td>\n",
              "      <td>NaN</td>\n",
              "      <td>False</td>\n",
              "      <td>B</td>\n",
              "      <td>118221</td>\n",
              "    </tr>\n",
              "    <tr>\n",
              "      <th>8189</th>\n",
              "      <td>45</td>\n",
              "      <td>2013-07-26</td>\n",
              "      <td>76.06</td>\n",
              "      <td>3.804</td>\n",
              "      <td>NaN</td>\n",
              "      <td>NaN</td>\n",
              "      <td>False</td>\n",
              "      <td>B</td>\n",
              "      <td>118221</td>\n",
              "    </tr>\n",
              "  </tbody>\n",
              "</table>\n",
              "<p>585 rows × 9 columns</p>\n",
              "</div>\n",
              "    <div class=\"colab-df-buttons\">\n",
              "\n",
              "  <div class=\"colab-df-container\">\n",
              "    <button class=\"colab-df-convert\" onclick=\"convertToInteractive('df-8b60a603-f603-4f23-95de-ffd82a306b5a')\"\n",
              "            title=\"Convert this dataframe to an interactive table.\"\n",
              "            style=\"display:none;\">\n",
              "\n",
              "  <svg xmlns=\"http://www.w3.org/2000/svg\" height=\"24px\" viewBox=\"0 -960 960 960\">\n",
              "    <path d=\"M120-120v-720h720v720H120Zm60-500h600v-160H180v160Zm220 220h160v-160H400v160Zm0 220h160v-160H400v160ZM180-400h160v-160H180v160Zm440 0h160v-160H620v160ZM180-180h160v-160H180v160Zm440 0h160v-160H620v160Z\"/>\n",
              "  </svg>\n",
              "    </button>\n",
              "\n",
              "  <style>\n",
              "    .colab-df-container {\n",
              "      display:flex;\n",
              "      gap: 12px;\n",
              "    }\n",
              "\n",
              "    .colab-df-convert {\n",
              "      background-color: #E8F0FE;\n",
              "      border: none;\n",
              "      border-radius: 50%;\n",
              "      cursor: pointer;\n",
              "      display: none;\n",
              "      fill: #1967D2;\n",
              "      height: 32px;\n",
              "      padding: 0 0 0 0;\n",
              "      width: 32px;\n",
              "    }\n",
              "\n",
              "    .colab-df-convert:hover {\n",
              "      background-color: #E2EBFA;\n",
              "      box-shadow: 0px 1px 2px rgba(60, 64, 67, 0.3), 0px 1px 3px 1px rgba(60, 64, 67, 0.15);\n",
              "      fill: #174EA6;\n",
              "    }\n",
              "\n",
              "    .colab-df-buttons div {\n",
              "      margin-bottom: 4px;\n",
              "    }\n",
              "\n",
              "    [theme=dark] .colab-df-convert {\n",
              "      background-color: #3B4455;\n",
              "      fill: #D2E3FC;\n",
              "    }\n",
              "\n",
              "    [theme=dark] .colab-df-convert:hover {\n",
              "      background-color: #434B5C;\n",
              "      box-shadow: 0px 1px 3px 1px rgba(0, 0, 0, 0.15);\n",
              "      filter: drop-shadow(0px 1px 2px rgba(0, 0, 0, 0.3));\n",
              "      fill: #FFFFFF;\n",
              "    }\n",
              "  </style>\n",
              "\n",
              "    <script>\n",
              "      const buttonEl =\n",
              "        document.querySelector('#df-8b60a603-f603-4f23-95de-ffd82a306b5a button.colab-df-convert');\n",
              "      buttonEl.style.display =\n",
              "        google.colab.kernel.accessAllowed ? 'block' : 'none';\n",
              "\n",
              "      async function convertToInteractive(key) {\n",
              "        const element = document.querySelector('#df-8b60a603-f603-4f23-95de-ffd82a306b5a');\n",
              "        const dataTable =\n",
              "          await google.colab.kernel.invokeFunction('convertToInteractive',\n",
              "                                                    [key], {});\n",
              "        if (!dataTable) return;\n",
              "\n",
              "        const docLinkHtml = 'Like what you see? Visit the ' +\n",
              "          '<a target=\"_blank\" href=https://colab.research.google.com/notebooks/data_table.ipynb>data table notebook</a>'\n",
              "          + ' to learn more about interactive tables.';\n",
              "        element.innerHTML = '';\n",
              "        dataTable['output_type'] = 'display_data';\n",
              "        await google.colab.output.renderOutput(dataTable, element);\n",
              "        const docLink = document.createElement('div');\n",
              "        docLink.innerHTML = docLinkHtml;\n",
              "        element.appendChild(docLink);\n",
              "      }\n",
              "    </script>\n",
              "  </div>\n",
              "\n",
              "\n",
              "<div id=\"df-0dae543e-e422-43c5-b586-7e5d31848bb0\">\n",
              "  <button class=\"colab-df-quickchart\" onclick=\"quickchart('df-0dae543e-e422-43c5-b586-7e5d31848bb0')\"\n",
              "            title=\"Suggest charts.\"\n",
              "            style=\"display:none;\">\n",
              "\n",
              "<svg xmlns=\"http://www.w3.org/2000/svg\" height=\"24px\"viewBox=\"0 0 24 24\"\n",
              "     width=\"24px\">\n",
              "    <g>\n",
              "        <path d=\"M19 3H5c-1.1 0-2 .9-2 2v14c0 1.1.9 2 2 2h14c1.1 0 2-.9 2-2V5c0-1.1-.9-2-2-2zM9 17H7v-7h2v7zm4 0h-2V7h2v10zm4 0h-2v-4h2v4z\"/>\n",
              "    </g>\n",
              "</svg>\n",
              "  </button>\n",
              "\n",
              "<style>\n",
              "  .colab-df-quickchart {\n",
              "      --bg-color: #E8F0FE;\n",
              "      --fill-color: #1967D2;\n",
              "      --hover-bg-color: #E2EBFA;\n",
              "      --hover-fill-color: #174EA6;\n",
              "      --disabled-fill-color: #AAA;\n",
              "      --disabled-bg-color: #DDD;\n",
              "  }\n",
              "\n",
              "  [theme=dark] .colab-df-quickchart {\n",
              "      --bg-color: #3B4455;\n",
              "      --fill-color: #D2E3FC;\n",
              "      --hover-bg-color: #434B5C;\n",
              "      --hover-fill-color: #FFFFFF;\n",
              "      --disabled-bg-color: #3B4455;\n",
              "      --disabled-fill-color: #666;\n",
              "  }\n",
              "\n",
              "  .colab-df-quickchart {\n",
              "    background-color: var(--bg-color);\n",
              "    border: none;\n",
              "    border-radius: 50%;\n",
              "    cursor: pointer;\n",
              "    display: none;\n",
              "    fill: var(--fill-color);\n",
              "    height: 32px;\n",
              "    padding: 0;\n",
              "    width: 32px;\n",
              "  }\n",
              "\n",
              "  .colab-df-quickchart:hover {\n",
              "    background-color: var(--hover-bg-color);\n",
              "    box-shadow: 0 1px 2px rgba(60, 64, 67, 0.3), 0 1px 3px 1px rgba(60, 64, 67, 0.15);\n",
              "    fill: var(--button-hover-fill-color);\n",
              "  }\n",
              "\n",
              "  .colab-df-quickchart-complete:disabled,\n",
              "  .colab-df-quickchart-complete:disabled:hover {\n",
              "    background-color: var(--disabled-bg-color);\n",
              "    fill: var(--disabled-fill-color);\n",
              "    box-shadow: none;\n",
              "  }\n",
              "\n",
              "  .colab-df-spinner {\n",
              "    border: 2px solid var(--fill-color);\n",
              "    border-color: transparent;\n",
              "    border-bottom-color: var(--fill-color);\n",
              "    animation:\n",
              "      spin 1s steps(1) infinite;\n",
              "  }\n",
              "\n",
              "  @keyframes spin {\n",
              "    0% {\n",
              "      border-color: transparent;\n",
              "      border-bottom-color: var(--fill-color);\n",
              "      border-left-color: var(--fill-color);\n",
              "    }\n",
              "    20% {\n",
              "      border-color: transparent;\n",
              "      border-left-color: var(--fill-color);\n",
              "      border-top-color: var(--fill-color);\n",
              "    }\n",
              "    30% {\n",
              "      border-color: transparent;\n",
              "      border-left-color: var(--fill-color);\n",
              "      border-top-color: var(--fill-color);\n",
              "      border-right-color: var(--fill-color);\n",
              "    }\n",
              "    40% {\n",
              "      border-color: transparent;\n",
              "      border-right-color: var(--fill-color);\n",
              "      border-top-color: var(--fill-color);\n",
              "    }\n",
              "    60% {\n",
              "      border-color: transparent;\n",
              "      border-right-color: var(--fill-color);\n",
              "    }\n",
              "    80% {\n",
              "      border-color: transparent;\n",
              "      border-right-color: var(--fill-color);\n",
              "      border-bottom-color: var(--fill-color);\n",
              "    }\n",
              "    90% {\n",
              "      border-color: transparent;\n",
              "      border-bottom-color: var(--fill-color);\n",
              "    }\n",
              "  }\n",
              "</style>\n",
              "\n",
              "  <script>\n",
              "    async function quickchart(key) {\n",
              "      const quickchartButtonEl =\n",
              "        document.querySelector('#' + key + ' button');\n",
              "      quickchartButtonEl.disabled = true;  // To prevent multiple clicks.\n",
              "      quickchartButtonEl.classList.add('colab-df-spinner');\n",
              "      try {\n",
              "        const charts = await google.colab.kernel.invokeFunction(\n",
              "            'suggestCharts', [key], {});\n",
              "      } catch (error) {\n",
              "        console.error('Error during call to suggestCharts:', error);\n",
              "      }\n",
              "      quickchartButtonEl.classList.remove('colab-df-spinner');\n",
              "      quickchartButtonEl.classList.add('colab-df-quickchart-complete');\n",
              "    }\n",
              "    (() => {\n",
              "      let quickchartButtonEl =\n",
              "        document.querySelector('#df-0dae543e-e422-43c5-b586-7e5d31848bb0 button');\n",
              "      quickchartButtonEl.style.display =\n",
              "        google.colab.kernel.accessAllowed ? 'block' : 'none';\n",
              "    })();\n",
              "  </script>\n",
              "</div>\n",
              "    </div>\n",
              "  </div>\n"
            ]
          },
          "metadata": {},
          "execution_count": 33
        }
      ]
    },
    {
      "cell_type": "markdown",
      "source": [
        "Number of weeks with Missing values"
      ],
      "metadata": {
        "id": "tP0sGyyDmH3X"
      }
    },
    {
      "cell_type": "code",
      "source": [
        "print(na_rows['Date'].unique())"
      ],
      "metadata": {
        "colab": {
          "base_uri": "https://localhost:8080/"
        },
        "id": "E9ImUeZvktVU",
        "outputId": "a790d255-6e3c-4037-a1d2-034a514b862a"
      },
      "execution_count": 34,
      "outputs": [
        {
          "output_type": "stream",
          "name": "stdout",
          "text": [
            "['2013-05-03' '2013-05-10' '2013-05-17' '2013-05-24' '2013-05-31'\n",
            " '2013-06-07' '2013-06-14' '2013-06-21' '2013-06-28' '2013-07-05'\n",
            " '2013-07-12' '2013-07-19' '2013-07-26']\n"
          ]
        }
      ]
    },
    {
      "cell_type": "code",
      "source": [
        "print(merged_df['Date'].unique()[-13:])"
      ],
      "metadata": {
        "colab": {
          "base_uri": "https://localhost:8080/"
        },
        "id": "VNGUe74Qmh6W",
        "outputId": "3d61b4c8-53ab-4390-dfc6-87140e44b992"
      },
      "execution_count": 35,
      "outputs": [
        {
          "output_type": "stream",
          "name": "stdout",
          "text": [
            "['2013-05-03' '2013-05-10' '2013-05-17' '2013-05-24' '2013-05-31'\n",
            " '2013-06-07' '2013-06-14' '2013-06-21' '2013-06-28' '2013-07-05'\n",
            " '2013-07-12' '2013-07-19' '2013-07-26']\n"
          ]
        }
      ]
    },
    {
      "cell_type": "code",
      "source": [
        "print(na_rows.groupby('Store').count()['Date'].unique())"
      ],
      "metadata": {
        "colab": {
          "base_uri": "https://localhost:8080/"
        },
        "id": "9h1c2B3SnWrO",
        "outputId": "229978cf-a12d-4e52-9dbb-fea36c2ed9e7"
      },
      "execution_count": 36,
      "outputs": [
        {
          "output_type": "stream",
          "name": "stdout",
          "text": [
            "[13]\n"
          ]
        }
      ]
    },
    {
      "cell_type": "markdown",
      "source": [
        "Each store has 13 weeks of null values in CPI and une. Total stores are 45.\n",
        "So total null values = 13*45 = 485\n",
        "\n",
        "Since unemployment and consumer index don't vary in next 13 weeks so we can substitute those missing ones with the previous week's value"
      ],
      "metadata": {
        "id": "aUl0_KHUsCLJ"
      }
    },
    {
      "cell_type": "code",
      "source": [
        "first_missing_row = na_indices[0]\n",
        "print(merged_df.iloc[first_missing_row][['Date', 'CPI', 'Unemployment']])\n",
        "print()\n",
        "\n",
        "first_nan_row = na_indices[0]-1\n",
        "print(first_nan_row)\n",
        "print()\n",
        "\n",
        "first_nan_row_content = merged_df.iloc[first_nan_row]\n",
        "print(first_nan_row_content[['Date', 'CPI', 'Unemployment']])\n",
        "print()\n",
        "\n",
        "previous_cpi = merged_df.at[first_nan_row, 'CPI']\n",
        "print(previous_cpi)\n",
        "print()\n",
        "\n",
        "previous_une = merged_df.at[first_nan_row, 'Unemployment']\n",
        "print(previous_une)\n",
        "print()"
      ],
      "metadata": {
        "colab": {
          "base_uri": "https://localhost:8080/"
        },
        "id": "lUEcNjdJowSm",
        "outputId": "9f20dd3b-056e-4f4b-cf07-18b101f4125e"
      },
      "execution_count": 37,
      "outputs": [
        {
          "output_type": "stream",
          "name": "stdout",
          "text": [
            "Date            2013-05-03\n",
            "CPI                    NaN\n",
            "Unemployment           NaN\n",
            "Name: 169, dtype: object\n",
            "\n",
            "168\n",
            "\n",
            "Date            2013-04-26\n",
            "CPI              225.17016\n",
            "Unemployment         6.314\n",
            "Name: 168, dtype: object\n",
            "\n",
            "225.1701596\n",
            "\n",
            "6.314\n",
            "\n"
          ]
        }
      ]
    },
    {
      "cell_type": "code",
      "source": [
        "merged_df.at[first_missing_row, 'CPI'] = previous_cpi\n",
        "merged_df.at[first_missing_row, 'Unemployment'] = previous_une\n",
        "\n",
        "print(merged_df.iloc[first_missing_row][['Date', 'CPI', 'Unemployment']])"
      ],
      "metadata": {
        "colab": {
          "base_uri": "https://localhost:8080/"
        },
        "id": "IdLGSdwCuHUe",
        "outputId": "7cdb8092-e7ea-4e8e-ea99-6c83060e10cf"
      },
      "execution_count": 38,
      "outputs": [
        {
          "output_type": "stream",
          "name": "stdout",
          "text": [
            "Date            2013-05-03\n",
            "CPI              225.17016\n",
            "Unemployment         6.314\n",
            "Name: 169, dtype: object\n"
          ]
        }
      ]
    },
    {
      "cell_type": "code",
      "source": [
        "for ind in na_indices:\n",
        "  merged_df.at[ind, 'CPI'] = previous_cpi\n",
        "  merged_df.at[ind, 'Unemployment'] = previous_une"
      ],
      "metadata": {
        "id": "7C-IYrhfDc7k"
      },
      "execution_count": 39,
      "outputs": []
    },
    {
      "cell_type": "code",
      "source": [
        "all_bool = pd.isna(merged_df)\n",
        "all_bool.any()"
      ],
      "metadata": {
        "colab": {
          "base_uri": "https://localhost:8080/"
        },
        "id": "BnctBGw-lYcy",
        "outputId": "457e2c93-1633-4aa8-abd4-abdbab5eb2f6"
      },
      "execution_count": 40,
      "outputs": [
        {
          "output_type": "execute_result",
          "data": {
            "text/plain": [
              "Store           False\n",
              "Date            False\n",
              "Temperature     False\n",
              "Fuel_Price      False\n",
              "CPI             False\n",
              "Unemployment    False\n",
              "IsHoliday       False\n",
              "Type            False\n",
              "Size            False\n",
              "dtype: bool"
            ]
          },
          "metadata": {},
          "execution_count": 40
        }
      ]
    },
    {
      "cell_type": "markdown",
      "source": [
        "Merge all tables to make single table"
      ],
      "metadata": {
        "id": "llpfcE1JpJvh"
      }
    },
    {
      "cell_type": "markdown",
      "source": [
        "Now each column has not null values"
      ],
      "metadata": {
        "id": "FyhGjNjFoYQL"
      }
    },
    {
      "cell_type": "code",
      "source": [
        "merged_df.columns\n"
      ],
      "metadata": {
        "id": "AwNXPcPfoA7T",
        "colab": {
          "base_uri": "https://localhost:8080/"
        },
        "outputId": "2503b731-e27c-4283-afe8-b8c1452c50a0"
      },
      "execution_count": 52,
      "outputs": [
        {
          "output_type": "execute_result",
          "data": {
            "text/plain": [
              "Index(['Store', 'Date', 'Temperature', 'Fuel_Price', 'CPI', 'Unemployment',\n",
              "       'IsHoliday', 'Type', 'Size'],\n",
              "      dtype='object')"
            ]
          },
          "metadata": {},
          "execution_count": 52
        }
      ]
    },
    {
      "cell_type": "code",
      "source": [
        "t_df.columns"
      ],
      "metadata": {
        "colab": {
          "base_uri": "https://localhost:8080/"
        },
        "id": "jPjSrUubpY5F",
        "outputId": "4af72228-f3c4-45ae-e86b-5cb29937503d"
      },
      "execution_count": 43,
      "outputs": [
        {
          "output_type": "execute_result",
          "data": {
            "text/plain": [
              "Index(['Store', 'Dept', 'Date', 'Weekly_Sales', 'IsHoliday'], dtype='object')"
            ]
          },
          "metadata": {},
          "execution_count": 43
        }
      ]
    },
    {
      "cell_type": "code",
      "source": [
        "merged_df['Type'].unique()"
      ],
      "metadata": {
        "colab": {
          "base_uri": "https://localhost:8080/"
        },
        "id": "LdxCotzbC8mL",
        "outputId": "f9e10d30-c47d-4491-9b87-29b73457c87a"
      },
      "execution_count": 58,
      "outputs": [
        {
          "output_type": "execute_result",
          "data": {
            "text/plain": [
              "array(['A', 'B', 'C'], dtype=object)"
            ]
          },
          "metadata": {},
          "execution_count": 58
        }
      ]
    },
    {
      "cell_type": "code",
      "source": [
        "common_columns = ['Store', 'Date', 'IsHoliday']\n",
        "final_df = t_df.merge(merged_df, on=common_columns)\n",
        "final_df.drop(columns=['Date'])\n",
        "\n",
        "final_df.columns.tolist()"
      ],
      "metadata": {
        "colab": {
          "base_uri": "https://localhost:8080/"
        },
        "id": "3cX_S9NNpcMV",
        "outputId": "fa04e4f8-62ad-4896-d7b3-299d64eba116"
      },
      "execution_count": 59,
      "outputs": [
        {
          "output_type": "execute_result",
          "data": {
            "text/plain": [
              "['Store',\n",
              " 'Dept',\n",
              " 'Date',\n",
              " 'Weekly_Sales',\n",
              " 'IsHoliday',\n",
              " 'Temperature',\n",
              " 'Fuel_Price',\n",
              " 'CPI',\n",
              " 'Unemployment',\n",
              " 'Type',\n",
              " 'Size']"
            ]
          },
          "metadata": {},
          "execution_count": 59
        }
      ]
    },
    {
      "cell_type": "code",
      "source": [
        "print(final_df['Type'].unique())"
      ],
      "metadata": {
        "colab": {
          "base_uri": "https://localhost:8080/"
        },
        "id": "9jW3JeawriXU",
        "outputId": "883cd5aa-9b0e-4bf7-a267-c0b08ff0933e"
      },
      "execution_count": 60,
      "outputs": [
        {
          "output_type": "stream",
          "name": "stdout",
          "text": [
            "['A']\n"
          ]
        }
      ]
    },
    {
      "cell_type": "code",
      "source": [
        "print(final_df['Dept'].unique())"
      ],
      "metadata": {
        "colab": {
          "base_uri": "https://localhost:8080/"
        },
        "id": "YhDajOw7_jdc",
        "outputId": "5d69f067-1d2c-45b9-bf15-f8683002f86f"
      },
      "execution_count": 47,
      "outputs": [
        {
          "output_type": "stream",
          "name": "stdout",
          "text": [
            "[ 1  2  3  4  5  6  7  8  9 10 11 12 13 14 16 17 18 19 20 21 22 23 24 25\n",
            " 26 27 28 29 30 31 32 33 34 35 36 37 38 40 41 42 44 45 46 47 48 49 51 52\n",
            " 54 55 56 58 59 60 67 71 72 74 79 80 81 82 83 85 87 90 78 77]\n"
          ]
        }
      ]
    },
    {
      "cell_type": "code",
      "source": [
        "total_dept = len(final_df['Dept'].unique())\n",
        "print(total_dept)"
      ],
      "metadata": {
        "colab": {
          "base_uri": "https://localhost:8080/"
        },
        "id": "OXU3Wo9i_xF1",
        "outputId": "10a64821-31c5-451e-f014-4db2981e60d2"
      },
      "execution_count": 61,
      "outputs": [
        {
          "output_type": "stream",
          "name": "stdout",
          "text": [
            "68\n"
          ]
        }
      ]
    },
    {
      "cell_type": "code",
      "source": [
        "final_df.dtypes"
      ],
      "metadata": {
        "colab": {
          "base_uri": "https://localhost:8080/"
        },
        "id": "ZTiGXAy6Do1j",
        "outputId": "99d54ff7-a04f-451e-a509-80bb5eef8a7e"
      },
      "execution_count": 65,
      "outputs": [
        {
          "output_type": "execute_result",
          "data": {
            "text/plain": [
              "Store             int64\n",
              "Dept              int64\n",
              "Date             object\n",
              "Weekly_Sales    float64\n",
              "IsHoliday          bool\n",
              "Temperature     float64\n",
              "Fuel_Price      float64\n",
              "CPI             float64\n",
              "Unemployment    float64\n",
              "Type             object\n",
              "Size              int64\n",
              "dtype: object"
            ]
          },
          "metadata": {},
          "execution_count": 65
        }
      ]
    },
    {
      "cell_type": "code",
      "source": [
        "final_df['IsHoliday'] = final_df['IsHoliday'].astype(int)"
      ],
      "metadata": {
        "id": "STGQP1VPFkyr"
      },
      "execution_count": 66,
      "outputs": []
    },
    {
      "cell_type": "code",
      "source": [
        "final_df.dtypes"
      ],
      "metadata": {
        "colab": {
          "base_uri": "https://localhost:8080/"
        },
        "id": "TCVHbVnIGAdG",
        "outputId": "5c670a01-aada-42c4-83c0-64f6ab0d599e"
      },
      "execution_count": 67,
      "outputs": [
        {
          "output_type": "execute_result",
          "data": {
            "text/plain": [
              "Store             int64\n",
              "Dept              int64\n",
              "Date             object\n",
              "Weekly_Sales    float64\n",
              "IsHoliday         int64\n",
              "Temperature     float64\n",
              "Fuel_Price      float64\n",
              "CPI             float64\n",
              "Unemployment    float64\n",
              "Type             object\n",
              "Size              int64\n",
              "dtype: object"
            ]
          },
          "metadata": {},
          "execution_count": 67
        }
      ]
    },
    {
      "cell_type": "code",
      "source": [
        "import matplotlib.pyplot as plt\n",
        "\n",
        "#plot_df = final_df[['Temperature', 'Weekly_Sales']]\n",
        "#rounded_temp = plot_df['Temperature'].round(0)\n",
        "#plot_df_1 = plot_df.groupby(rounded_temp).mean()\n",
        "#plot_df_1.shape\n",
        "#plot_df.shape\n",
        "#plot_df.groupby(rounded_temp).mean()\n",
        "#plot_df_1.plot.scatter(x='Temperature', y='Weekly_Sales')\n",
        "#plt.show()"
      ],
      "metadata": {
        "id": "2AkgXy41sbv4"
      },
      "execution_count": 83,
      "outputs": []
    },
    {
      "cell_type": "code",
      "source": [
        "\n",
        "\n",
        "plot_df = final_df[['Temperature', 'Weekly_Sales']]\n",
        "rounded_temp = plot_df['Temperature'].round(0)\n",
        "plot_df = plot_df.groupby(rounded_temp).mean()\n",
        "plot_df.plot.scatter(x='Temperature', y='Weekly_Sales')\n",
        "plt.title('Temperature vs. Weekly Sales')\n",
        "plt.xlabel('Temperature (Fahrenheit)')\n",
        "plt.ylabel('Avg Weekly Sales (Dollars)')\n",
        "plt.show()\n",
        "#rounded_temp"
      ],
      "metadata": {
        "colab": {
          "base_uri": "https://localhost:8080/",
          "height": 472
        },
        "id": "ftIlw9NuGEW-",
        "outputId": "d25f8faa-4fc1-4118-ef49-ac3bd2881137"
      },
      "execution_count": 89,
      "outputs": [
        {
          "output_type": "display_data",
          "data": {
            "text/plain": [
              "<Figure size 640x480 with 1 Axes>"
            ],
            "image/png": "[encoded data removed]"
          },
          "metadata": {}
        }
      ]
    },
    {
      "cell_type": "code",
      "source": [
        "final_df[['Temperature', 'Weekly_Sales']]"
      ],
      "metadata": {
        "colab": {
          "base_uri": "https://localhost:8080/",
          "height": 424
        },
        "id": "9MyQns4Whdxh",
        "outputId": "272ce1d2-4fef-43b5-d153-7f46d5d648d3"
      },
      "execution_count": 87,
      "outputs": [
        {
          "output_type": "execute_result",
          "data": {
            "text/plain": [
              "      Temperature  Weekly_Sales\n",
              "0           42.31      24924.50\n",
              "1           42.31      50605.27\n",
              "2           42.31      13740.12\n",
              "3           42.31      39954.04\n",
              "4           42.31      32229.38\n",
              "...           ...           ...\n",
              "9992        85.71      55876.38\n",
              "9993        85.71      32555.47\n",
              "9994        85.71      21853.01\n",
              "9995        85.71       6819.77\n",
              "9996        85.71      23023.36\n",
              "\n",
              "[9997 rows x 2 columns]"
            ],
            "text/html": [
              "\n",
              "  <div id=\"df-b8ab1ea0-4b7b-49ab-9c25-059a80d4d880\" class=\"colab-df-container\">\n",
              "    <div>\n",
              "<style scoped>\n",
              "    .dataframe tbody tr th:only-of-type {\n",
              "        vertical-align: middle;\n",
              "    }\n",
              "\n",
              "    .dataframe tbody tr th {\n",
              "        vertical-align: top;\n",
              "    }\n",
              "\n",
              "    .dataframe thead th {\n",
              "        text-align: right;\n",
              "    }\n",
              "</style>\n",
              "<table border=\"1\" class=\"dataframe\">\n",
              "  <thead>\n",
              "    <tr style=\"text-align: right;\">\n",
              "      <th></th>\n",
              "      <th>Temperature</th>\n",
              "      <th>Weekly_Sales</th>\n",
              "    </tr>\n",
              "  </thead>\n",
              "  <tbody>\n",
              "    <tr>\n",
              "      <th>0</th>\n",
              "      <td>42.31</td>\n",
              "      <td>24924.50</td>\n",
              "    </tr>\n",
              "    <tr>\n",
              "      <th>1</th>\n",
              "      <td>42.31</td>\n",
              "      <td>50605.27</td>\n",
              "    </tr>\n",
              "    <tr>\n",
              "      <th>2</th>\n",
              "      <td>42.31</td>\n",
              "      <td>13740.12</td>\n",
              "    </tr>\n",
              "    <tr>\n",
              "      <th>3</th>\n",
              "      <td>42.31</td>\n",
              "      <td>39954.04</td>\n",
              "    </tr>\n",
              "    <tr>\n",
              "      <th>4</th>\n",
              "      <td>42.31</td>\n",
              "      <td>32229.38</td>\n",
              "    </tr>\n",
              "    <tr>\n",
              "      <th>...</th>\n",
              "      <td>...</td>\n",
              "      <td>...</td>\n",
              "    </tr>\n",
              "    <tr>\n",
              "      <th>9992</th>\n",
              "      <td>85.71</td>\n",
              "      <td>55876.38</td>\n",
              "    </tr>\n",
              "    <tr>\n",
              "      <th>9993</th>\n",
              "      <td>85.71</td>\n",
              "      <td>32555.47</td>\n",
              "    </tr>\n",
              "    <tr>\n",
              "      <th>9994</th>\n",
              "      <td>85.71</td>\n",
              "      <td>21853.01</td>\n",
              "    </tr>\n",
              "    <tr>\n",
              "      <th>9995</th>\n",
              "      <td>85.71</td>\n",
              "      <td>6819.77</td>\n",
              "    </tr>\n",
              "    <tr>\n",
              "      <th>9996</th>\n",
              "      <td>85.71</td>\n",
              "      <td>23023.36</td>\n",
              "    </tr>\n",
              "  </tbody>\n",
              "</table>\n",
              "<p>9997 rows × 2 columns</p>\n",
              "</div>\n",
              "    <div class=\"colab-df-buttons\">\n",
              "\n",
              "  <div class=\"colab-df-container\">\n",
              "    <button class=\"colab-df-convert\" onclick=\"convertToInteractive('df-b8ab1ea0-4b7b-49ab-9c25-059a80d4d880')\"\n",
              "            title=\"Convert this dataframe to an interactive table.\"\n",
              "            style=\"display:none;\">\n",
              "\n",
              "  <svg xmlns=\"http://www.w3.org/2000/svg\" height=\"24px\" viewBox=\"0 -960 960 960\">\n",
              "    <path d=\"M120-120v-720h720v720H120Zm60-500h600v-160H180v160Zm220 220h160v-160H400v160Zm0 220h160v-160H400v160ZM180-400h160v-160H180v160Zm440 0h160v-160H620v160ZM180-180h160v-160H180v160Zm440 0h160v-160H620v160Z\"/>\n",
              "  </svg>\n",
              "    </button>\n",
              "\n",
              "  <style>\n",
              "    .colab-df-container {\n",
              "      display:flex;\n",
              "      gap: 12px;\n",
              "    }\n",
              "\n",
              "    .colab-df-convert {\n",
              "      background-color: #E8F0FE;\n",
              "      border: none;\n",
              "      border-radius: 50%;\n",
              "      cursor: pointer;\n",
              "      display: none;\n",
              "      fill: #1967D2;\n",
              "      height: 32px;\n",
              "      padding: 0 0 0 0;\n",
              "      width: 32px;\n",
              "    }\n",
              "\n",
              "    .colab-df-convert:hover {\n",
              "      background-color: #E2EBFA;\n",
              "      box-shadow: 0px 1px 2px rgba(60, 64, 67, 0.3), 0px 1px 3px 1px rgba(60, 64, 67, 0.15);\n",
              "      fill: #174EA6;\n",
              "    }\n",
              "\n",
              "    .colab-df-buttons div {\n",
              "      margin-bottom: 4px;\n",
              "    }\n",
              "\n",
              "    [theme=dark] .colab-df-convert {\n",
              "      background-color: #3B4455;\n",
              "      fill: #D2E3FC;\n",
              "    }\n",
              "\n",
              "    [theme=dark] .colab-df-convert:hover {\n",
              "      background-color: #434B5C;\n",
              "      box-shadow: 0px 1px 3px 1px rgba(0, 0, 0, 0.15);\n",
              "      filter: drop-shadow(0px 1px 2px rgba(0, 0, 0, 0.3));\n",
              "      fill: #FFFFFF;\n",
              "    }\n",
              "  </style>\n",
              "\n",
              "    <script>\n",
              "      const buttonEl =\n",
              "        document.querySelector('#df-b8ab1ea0-4b7b-49ab-9c25-059a80d4d880 button.colab-df-convert');\n",
              "      buttonEl.style.display =\n",
              "        google.colab.kernel.accessAllowed ? 'block' : 'none';\n",
              "\n",
              "      async function convertToInteractive(key) {\n",
              "        const element = document.querySelector('#df-b8ab1ea0-4b7b-49ab-9c25-059a80d4d880');\n",
              "        const dataTable =\n",
              "          await google.colab.kernel.invokeFunction('convertToInteractive',\n",
              "                                                    [key], {});\n",
              "        if (!dataTable) return;\n",
              "\n",
              "        const docLinkHtml = 'Like what you see? Visit the ' +\n",
              "          '<a target=\"_blank\" href=https://colab.research.google.com/notebooks/data_table.ipynb>data table notebook</a>'\n",
              "          + ' to learn more about interactive tables.';\n",
              "        element.innerHTML = '';\n",
              "        dataTable['output_type'] = 'display_data';\n",
              "        await google.colab.output.renderOutput(dataTable, element);\n",
              "        const docLink = document.createElement('div');\n",
              "        docLink.innerHTML = docLinkHtml;\n",
              "        element.appendChild(docLink);\n",
              "      }\n",
              "    </script>\n",
              "  </div>\n",
              "\n",
              "\n",
              "<div id=\"df-8620c267-fae3-4824-8d6b-301f3c84b105\">\n",
              "  <button class=\"colab-df-quickchart\" onclick=\"quickchart('df-8620c267-fae3-4824-8d6b-301f3c84b105')\"\n",
              "            title=\"Suggest charts.\"\n",
              "            style=\"display:none;\">\n",
              "\n",
              "<svg xmlns=\"http://www.w3.org/2000/svg\" height=\"24px\"viewBox=\"0 0 24 24\"\n",
              "     width=\"24px\">\n",
              "    <g>\n",
              "        <path d=\"M19 3H5c-1.1 0-2 .9-2 2v14c0 1.1.9 2 2 2h14c1.1 0 2-.9 2-2V5c0-1.1-.9-2-2-2zM9 17H7v-7h2v7zm4 0h-2V7h2v10zm4 0h-2v-4h2v4z\"/>\n",
              "    </g>\n",
              "</svg>\n",
              "  </button>\n",
              "\n",
              "<style>\n",
              "  .colab-df-quickchart {\n",
              "      --bg-color: #E8F0FE;\n",
              "      --fill-color: #1967D2;\n",
              "      --hover-bg-color: #E2EBFA;\n",
              "      --hover-fill-color: #174EA6;\n",
              "      --disabled-fill-color: #AAA;\n",
              "      --disabled-bg-color: #DDD;\n",
              "  }\n",
              "\n",
              "  [theme=dark] .colab-df-quickchart {\n",
              "      --bg-color: #3B4455;\n",
              "      --fill-color: #D2E3FC;\n",
              "      --hover-bg-color: #434B5C;\n",
              "      --hover-fill-color: #FFFFFF;\n",
              "      --disabled-bg-color: #3B4455;\n",
              "      --disabled-fill-color: #666;\n",
              "  }\n",
              "\n",
              "  .colab-df-quickchart {\n",
              "    background-color: var(--bg-color);\n",
              "    border: none;\n",
              "    border-radius: 50%;\n",
              "    cursor: pointer;\n",
              "    display: none;\n",
              "    fill: var(--fill-color);\n",
              "    height: 32px;\n",
              "    padding: 0;\n",
              "    width: 32px;\n",
              "  }\n",
              "\n",
              "  .colab-df-quickchart:hover {\n",
              "    background-color: var(--hover-bg-color);\n",
              "    box-shadow: 0 1px 2px rgba(60, 64, 67, 0.3), 0 1px 3px 1px rgba(60, 64, 67, 0.15);\n",
              "    fill: var(--button-hover-fill-color);\n",
              "  }\n",
              "\n",
              "  .colab-df-quickchart-complete:disabled,\n",
              "  .colab-df-quickchart-complete:disabled:hover {\n",
              "    background-color: var(--disabled-bg-color);\n",
              "    fill: var(--disabled-fill-color);\n",
              "    box-shadow: none;\n",
              "  }\n",
              "\n",
              "  .colab-df-spinner {\n",
              "    border: 2px solid var(--fill-color);\n",
              "    border-color: transparent;\n",
              "    border-bottom-color: var(--fill-color);\n",
              "    animation:\n",
              "      spin 1s steps(1) infinite;\n",
              "  }\n",
              "\n",
              "  @keyframes spin {\n",
              "    0% {\n",
              "      border-color: transparent;\n",
              "      border-bottom-color: var(--fill-color);\n",
              "      border-left-color: var(--fill-color);\n",
              "    }\n",
              "    20% {\n",
              "      border-color: transparent;\n",
              "      border-left-color: var(--fill-color);\n",
              "      border-top-color: var(--fill-color);\n",
              "    }\n",
              "    30% {\n",
              "      border-color: transparent;\n",
              "      border-left-color: var(--fill-color);\n",
              "      border-top-color: var(--fill-color);\n",
              "      border-right-color: var(--fill-color);\n",
              "    }\n",
              "    40% {\n",
              "      border-color: transparent;\n",
              "      border-right-color: var(--fill-color);\n",
              "      border-top-color: var(--fill-color);\n",
              "    }\n",
              "    60% {\n",
              "      border-color: transparent;\n",
              "      border-right-color: var(--fill-color);\n",
              "    }\n",
              "    80% {\n",
              "      border-color: transparent;\n",
              "      border-right-color: var(--fill-color);\n",
              "      border-bottom-color: var(--fill-color);\n",
              "    }\n",
              "    90% {\n",
              "      border-color: transparent;\n",
              "      border-bottom-color: var(--fill-color);\n",
              "    }\n",
              "  }\n",
              "</style>\n",
              "\n",
              "  <script>\n",
              "    async function quickchart(key) {\n",
              "      const quickchartButtonEl =\n",
              "        document.querySelector('#' + key + ' button');\n",
              "      quickchartButtonEl.disabled = true;  // To prevent multiple clicks.\n",
              "      quickchartButtonEl.classList.add('colab-df-spinner');\n",
              "      try {\n",
              "        const charts = await google.colab.kernel.invokeFunction(\n",
              "            'suggestCharts', [key], {});\n",
              "      } catch (error) {\n",
              "        console.error('Error during call to suggestCharts:', error);\n",
              "      }\n",
              "      quickchartButtonEl.classList.remove('colab-df-spinner');\n",
              "      quickchartButtonEl.classList.add('colab-df-quickchart-complete');\n",
              "    }\n",
              "    (() => {\n",
              "      let quickchartButtonEl =\n",
              "        document.querySelector('#df-8620c267-fae3-4824-8d6b-301f3c84b105 button');\n",
              "      quickchartButtonEl.style.display =\n",
              "        google.colab.kernel.accessAllowed ? 'block' : 'none';\n",
              "    })();\n",
              "  </script>\n",
              "</div>\n",
              "    </div>\n",
              "  </div>\n"
            ]
          },
          "metadata": {},
          "execution_count": 87
        }
      ]
    },
    {
      "cell_type": "code",
      "source": [
        "plot_df"
      ],
      "metadata": {
        "colab": {
          "base_uri": "https://localhost:8080/",
          "height": 1000
        },
        "id": "yrxl4WqvmqtR",
        "outputId": "60847001-e6f9-49cd-a824-3054dc404f87"
      },
      "execution_count": 88,
      "outputs": [
        {
          "output_type": "execute_result",
          "data": {
            "text/plain": [
              "             Temperature  Weekly_Sales\n",
              "Temperature                           \n",
              "35.0           35.400000  13785.351905\n",
              "36.0           36.390000  17043.155000\n",
              "38.0           38.370000  20925.354286\n",
              "39.0           38.594583  18456.716528\n",
              "40.0           39.977945  18539.745890\n",
              "41.0           40.580000  27575.420714\n",
              "42.0           42.290465  17297.006047\n",
              "44.0           43.911667  16407.880098\n",
              "45.0           44.937368  16974.729774\n",
              "46.0           46.405809  17559.115441\n",
              "47.0           46.686709  17748.750633\n",
              "48.0           48.171127  18736.088255\n",
              "49.0           48.943357  17707.537607\n",
              "50.0           49.819296  21986.212817\n",
              "51.0           51.388042  16205.064825\n",
              "52.0           52.014000  25817.860214\n",
              "53.0           53.130000  39021.422857\n",
              "54.0           53.961422  14238.325049\n",
              "55.0           54.820563  19506.593310\n",
              "57.0           57.052673  17371.223218\n",
              "58.0           57.791750  16574.674500\n",
              "59.0           58.937106  16709.714066\n",
              "60.0           59.811591  18765.344000\n",
              "61.0           60.997536  18197.948986\n",
              "62.0           62.252254  16546.426549\n",
              "63.0           62.875896  17168.031745\n",
              "64.0           63.833221  16466.920805\n",
              "65.0           64.742828  18483.976172\n",
              "66.0           66.022698  17282.488047\n",
              "67.0           67.032373  14459.712690\n",
              "68.0           67.765775  15579.404651\n",
              "69.0           68.996570  16226.930758\n",
              "70.0           70.018714  16209.043374\n",
              "71.0           71.131250  19702.737321\n",
              "72.0           71.882936  16228.400321\n",
              "73.0           72.782657  17362.433846\n",
              "74.0           73.829880  18836.948434\n",
              "75.0           74.891757  16526.562568\n",
              "76.0           75.938747  14910.369156\n",
              "77.0           77.158538  15083.629462\n",
              "78.0           78.013561  15921.261899\n",
              "79.0           79.013487  17895.742303\n",
              "80.0           80.275433  15811.093805\n",
              "81.0           80.950427  17000.290996\n",
              "82.0           81.850359  16915.709417\n",
              "83.0           83.047815  15310.565077\n",
              "84.0           83.995768  17514.253925\n",
              "85.0           84.999289  15321.598854\n",
              "86.0           85.929184  15650.700997\n",
              "87.0           86.930203  17746.836678\n",
              "88.0           87.891806  16941.780774\n",
              "89.0           88.643600  16334.519333\n",
              "90.0           90.020964  17906.649639\n",
              "91.0           90.866842  16289.645395\n",
              "92.0           91.650000  15623.321452"
            ],
            "text/html": [
              "\n",
              "  <div id=\"df-b8775e05-0148-4324-9402-2d941c84b6f0\" class=\"colab-df-container\">\n",
              "    <div>\n",
              "<style scoped>\n",
              "    .dataframe tbody tr th:only-of-type {\n",
              "        vertical-align: middle;\n",
              "    }\n",
              "\n",
              "    .dataframe tbody tr th {\n",
              "        vertical-align: top;\n",
              "    }\n",
              "\n",
              "    .dataframe thead th {\n",
              "        text-align: right;\n",
              "    }\n",
              "</style>\n",
              "<table border=\"1\" class=\"dataframe\">\n",
              "  <thead>\n",
              "    <tr style=\"text-align: right;\">\n",
              "      <th></th>\n",
              "      <th>Temperature</th>\n",
              "      <th>Weekly_Sales</th>\n",
              "    </tr>\n",
              "    <tr>\n",
              "      <th>Temperature</th>\n",
              "      <th></th>\n",
              "      <th></th>\n",
              "    </tr>\n",
              "  </thead>\n",
              "  <tbody>\n",
              "    <tr>\n",
              "      <th>35.0</th>\n",
              "      <td>35.400000</td>\n",
              "      <td>13785.351905</td>\n",
              "    </tr>\n",
              "    <tr>\n",
              "      <th>36.0</th>\n",
              "      <td>36.390000</td>\n",
              "      <td>17043.155000</td>\n",
              "    </tr>\n",
              "    <tr>\n",
              "      <th>38.0</th>\n",
              "      <td>38.370000</td>\n",
              "      <td>20925.354286</td>\n",
              "    </tr>\n",
              "    <tr>\n",
              "      <th>39.0</th>\n",
              "      <td>38.594583</td>\n",
              "      <td>18456.716528</td>\n",
              "    </tr>\n",
              "    <tr>\n",
              "      <th>40.0</th>\n",
              "      <td>39.977945</td>\n",
              "      <td>18539.745890</td>\n",
              "    </tr>\n",
              "    <tr>\n",
              "      <th>41.0</th>\n",
              "      <td>40.580000</td>\n",
              "      <td>27575.420714</td>\n",
              "    </tr>\n",
              "    <tr>\n",
              "      <th>42.0</th>\n",
              "      <td>42.290465</td>\n",
              "      <td>17297.006047</td>\n",
              "    </tr>\n",
              "    <tr>\n",
              "      <th>44.0</th>\n",
              "      <td>43.911667</td>\n",
              "      <td>16407.880098</td>\n",
              "    </tr>\n",
              "    <tr>\n",
              "      <th>45.0</th>\n",
              "      <td>44.937368</td>\n",
              "      <td>16974.729774</td>\n",
              "    </tr>\n",
              "    <tr>\n",
              "      <th>46.0</th>\n",
              "      <td>46.405809</td>\n",
              "      <td>17559.115441</td>\n",
              "    </tr>\n",
              "    <tr>\n",
              "      <th>47.0</th>\n",
              "      <td>46.686709</td>\n",
              "      <td>17748.750633</td>\n",
              "    </tr>\n",
              "    <tr>\n",
              "      <th>48.0</th>\n",
              "      <td>48.171127</td>\n",
              "      <td>18736.088255</td>\n",
              "    </tr>\n",
              "    <tr>\n",
              "      <th>49.0</th>\n",
              "      <td>48.943357</td>\n",
              "      <td>17707.537607</td>\n",
              "    </tr>\n",
              "    <tr>\n",
              "      <th>50.0</th>\n",
              "      <td>49.819296</td>\n",
              "      <td>21986.212817</td>\n",
              "    </tr>\n",
              "    <tr>\n",
              "      <th>51.0</th>\n",
              "      <td>51.388042</td>\n",
              "      <td>16205.064825</td>\n",
              "    </tr>\n",
              "    <tr>\n",
              "      <th>52.0</th>\n",
              "      <td>52.014000</td>\n",
              "      <td>25817.860214</td>\n",
              "    </tr>\n",
              "    <tr>\n",
              "      <th>53.0</th>\n",
              "      <td>53.130000</td>\n",
              "      <td>39021.422857</td>\n",
              "    </tr>\n",
              "    <tr>\n",
              "      <th>54.0</th>\n",
              "      <td>53.961422</td>\n",
              "      <td>14238.325049</td>\n",
              "    </tr>\n",
              "    <tr>\n",
              "      <th>55.0</th>\n",
              "      <td>54.820563</td>\n",
              "      <td>19506.593310</td>\n",
              "    </tr>\n",
              "    <tr>\n",
              "      <th>57.0</th>\n",
              "      <td>57.052673</td>\n",
              "      <td>17371.223218</td>\n",
              "    </tr>\n",
              "    <tr>\n",
              "      <th>58.0</th>\n",
              "      <td>57.791750</td>\n",
              "      <td>16574.674500</td>\n",
              "    </tr>\n",
              "    <tr>\n",
              "      <th>59.0</th>\n",
              "      <td>58.937106</td>\n",
              "      <td>16709.714066</td>\n",
              "    </tr>\n",
              "    <tr>\n",
              "      <th>60.0</th>\n",
              "      <td>59.811591</td>\n",
              "      <td>18765.344000</td>\n",
              "    </tr>\n",
              "    <tr>\n",
              "      <th>61.0</th>\n",
              "      <td>60.997536</td>\n",
              "      <td>18197.948986</td>\n",
              "    </tr>\n",
              "    <tr>\n",
              "      <th>62.0</th>\n",
              "      <td>62.252254</td>\n",
              "      <td>16546.426549</td>\n",
              "    </tr>\n",
              "    <tr>\n",
              "      <th>63.0</th>\n",
              "      <td>62.875896</td>\n",
              "      <td>17168.031745</td>\n",
              "    </tr>\n",
              "    <tr>\n",
              "      <th>64.0</th>\n",
              "      <td>63.833221</td>\n",
              "      <td>16466.920805</td>\n",
              "    </tr>\n",
              "    <tr>\n",
              "      <th>65.0</th>\n",
              "      <td>64.742828</td>\n",
              "      <td>18483.976172</td>\n",
              "    </tr>\n",
              "    <tr>\n",
              "      <th>66.0</th>\n",
              "      <td>66.022698</td>\n",
              "      <td>17282.488047</td>\n",
              "    </tr>\n",
              "    <tr>\n",
              "      <th>67.0</th>\n",
              "      <td>67.032373</td>\n",
              "      <td>14459.712690</td>\n",
              "    </tr>\n",
              "    <tr>\n",
              "      <th>68.0</th>\n",
              "      <td>67.765775</td>\n",
              "      <td>15579.404651</td>\n",
              "    </tr>\n",
              "    <tr>\n",
              "      <th>69.0</th>\n",
              "      <td>68.996570</td>\n",
              "      <td>16226.930758</td>\n",
              "    </tr>\n",
              "    <tr>\n",
              "      <th>70.0</th>\n",
              "      <td>70.018714</td>\n",
              "      <td>16209.043374</td>\n",
              "    </tr>\n",
              "    <tr>\n",
              "      <th>71.0</th>\n",
              "      <td>71.131250</td>\n",
              "      <td>19702.737321</td>\n",
              "    </tr>\n",
              "    <tr>\n",
              "      <th>72.0</th>\n",
              "      <td>71.882936</td>\n",
              "      <td>16228.400321</td>\n",
              "    </tr>\n",
              "    <tr>\n",
              "      <th>73.0</th>\n",
              "      <td>72.782657</td>\n",
              "      <td>17362.433846</td>\n",
              "    </tr>\n",
              "    <tr>\n",
              "      <th>74.0</th>\n",
              "      <td>73.829880</td>\n",
              "      <td>18836.948434</td>\n",
              "    </tr>\n",
              "    <tr>\n",
              "      <th>75.0</th>\n",
              "      <td>74.891757</td>\n",
              "      <td>16526.562568</td>\n",
              "    </tr>\n",
              "    <tr>\n",
              "      <th>76.0</th>\n",
              "      <td>75.938747</td>\n",
              "      <td>14910.369156</td>\n",
              "    </tr>\n",
              "    <tr>\n",
              "      <th>77.0</th>\n",
              "      <td>77.158538</td>\n",
              "      <td>15083.629462</td>\n",
              "    </tr>\n",
              "    <tr>\n",
              "      <th>78.0</th>\n",
              "      <td>78.013561</td>\n",
              "      <td>15921.261899</td>\n",
              "    </tr>\n",
              "    <tr>\n",
              "      <th>79.0</th>\n",
              "      <td>79.013487</td>\n",
              "      <td>17895.742303</td>\n",
              "    </tr>\n",
              "    <tr>\n",
              "      <th>80.0</th>\n",
              "      <td>80.275433</td>\n",
              "      <td>15811.093805</td>\n",
              "    </tr>\n",
              "    <tr>\n",
              "      <th>81.0</th>\n",
              "      <td>80.950427</td>\n",
              "      <td>17000.290996</td>\n",
              "    </tr>\n",
              "    <tr>\n",
              "      <th>82.0</th>\n",
              "      <td>81.850359</td>\n",
              "      <td>16915.709417</td>\n",
              "    </tr>\n",
              "    <tr>\n",
              "      <th>83.0</th>\n",
              "      <td>83.047815</td>\n",
              "      <td>15310.565077</td>\n",
              "    </tr>\n",
              "    <tr>\n",
              "      <th>84.0</th>\n",
              "      <td>83.995768</td>\n",
              "      <td>17514.253925</td>\n",
              "    </tr>\n",
              "    <tr>\n",
              "      <th>85.0</th>\n",
              "      <td>84.999289</td>\n",
              "      <td>15321.598854</td>\n",
              "    </tr>\n",
              "    <tr>\n",
              "      <th>86.0</th>\n",
              "      <td>85.929184</td>\n",
              "      <td>15650.700997</td>\n",
              "    </tr>\n",
              "    <tr>\n",
              "      <th>87.0</th>\n",
              "      <td>86.930203</td>\n",
              "      <td>17746.836678</td>\n",
              "    </tr>\n",
              "    <tr>\n",
              "      <th>88.0</th>\n",
              "      <td>87.891806</td>\n",
              "      <td>16941.780774</td>\n",
              "    </tr>\n",
              "    <tr>\n",
              "      <th>89.0</th>\n",
              "      <td>88.643600</td>\n",
              "      <td>16334.519333</td>\n",
              "    </tr>\n",
              "    <tr>\n",
              "      <th>90.0</th>\n",
              "      <td>90.020964</td>\n",
              "      <td>17906.649639</td>\n",
              "    </tr>\n",
              "    <tr>\n",
              "      <th>91.0</th>\n",
              "      <td>90.866842</td>\n",
              "      <td>16289.645395</td>\n",
              "    </tr>\n",
              "    <tr>\n",
              "      <th>92.0</th>\n",
              "      <td>91.650000</td>\n",
              "      <td>15623.321452</td>\n",
              "    </tr>\n",
              "  </tbody>\n",
              "</table>\n",
              "</div>\n",
              "    <div class=\"colab-df-buttons\">\n",
              "\n",
              "  <div class=\"colab-df-container\">\n",
              "    <button class=\"colab-df-convert\" onclick=\"convertToInteractive('df-b8775e05-0148-4324-9402-2d941c84b6f0')\"\n",
              "            title=\"Convert this dataframe to an interactive table.\"\n",
              "            style=\"display:none;\">\n",
              "\n",
              "  <svg xmlns=\"http://www.w3.org/2000/svg\" height=\"24px\" viewBox=\"0 -960 960 960\">\n",
              "    <path d=\"M120-120v-720h720v720H120Zm60-500h600v-160H180v160Zm220 220h160v-160H400v160Zm0 220h160v-160H400v160ZM180-400h160v-160H180v160Zm440 0h160v-160H620v160ZM180-180h160v-160H180v160Zm440 0h160v-160H620v160Z\"/>\n",
              "  </svg>\n",
              "    </button>\n",
              "\n",
              "  <style>\n",
              "    .colab-df-container {\n",
              "      display:flex;\n",
              "      gap: 12px;\n",
              "    }\n",
              "\n",
              "    .colab-df-convert {\n",
              "      background-color: #E8F0FE;\n",
              "      border: none;\n",
              "      border-radius: 50%;\n",
              "      cursor: pointer;\n",
              "      display: none;\n",
              "      fill: #1967D2;\n",
              "      height: 32px;\n",
              "      padding: 0 0 0 0;\n",
              "      width: 32px;\n",
              "    }\n",
              "\n",
              "    .colab-df-convert:hover {\n",
              "      background-color: #E2EBFA;\n",
              "      box-shadow: 0px 1px 2px rgba(60, 64, 67, 0.3), 0px 1px 3px 1px rgba(60, 64, 67, 0.15);\n",
              "      fill: #174EA6;\n",
              "    }\n",
              "\n",
              "    .colab-df-buttons div {\n",
              "      margin-bottom: 4px;\n",
              "    }\n",
              "\n",
              "    [theme=dark] .colab-df-convert {\n",
              "      background-color: #3B4455;\n",
              "      fill: #D2E3FC;\n",
              "    }\n",
              "\n",
              "    [theme=dark] .colab-df-convert:hover {\n",
              "      background-color: #434B5C;\n",
              "      box-shadow: 0px 1px 3px 1px rgba(0, 0, 0, 0.15);\n",
              "      filter: drop-shadow(0px 1px 2px rgba(0, 0, 0, 0.3));\n",
              "      fill: #FFFFFF;\n",
              "    }\n",
              "  </style>\n",
              "\n",
              "    <script>\n",
              "      const buttonEl =\n",
              "        document.querySelector('#df-b8775e05-0148-4324-9402-2d941c84b6f0 button.colab-df-convert');\n",
              "      buttonEl.style.display =\n",
              "        google.colab.kernel.accessAllowed ? 'block' : 'none';\n",
              "\n",
              "      async function convertToInteractive(key) {\n",
              "        const element = document.querySelector('#df-b8775e05-0148-4324-9402-2d941c84b6f0');\n",
              "        const dataTable =\n",
              "          await google.colab.kernel.invokeFunction('convertToInteractive',\n",
              "                                                    [key], {});\n",
              "        if (!dataTable) return;\n",
              "\n",
              "        const docLinkHtml = 'Like what you see? Visit the ' +\n",
              "          '<a target=\"_blank\" href=https://colab.research.google.com/notebooks/data_table.ipynb>data table notebook</a>'\n",
              "          + ' to learn more about interactive tables.';\n",
              "        element.innerHTML = '';\n",
              "        dataTable['output_type'] = 'display_data';\n",
              "        await google.colab.output.renderOutput(dataTable, element);\n",
              "        const docLink = document.createElement('div');\n",
              "        docLink.innerHTML = docLinkHtml;\n",
              "        element.appendChild(docLink);\n",
              "      }\n",
              "    </script>\n",
              "  </div>\n",
              "\n",
              "\n",
              "<div id=\"df-7fddbac7-861c-491f-af33-fa759aac69b9\">\n",
              "  <button class=\"colab-df-quickchart\" onclick=\"quickchart('df-7fddbac7-861c-491f-af33-fa759aac69b9')\"\n",
              "            title=\"Suggest charts.\"\n",
              "            style=\"display:none;\">\n",
              "\n",
              "<svg xmlns=\"http://www.w3.org/2000/svg\" height=\"24px\"viewBox=\"0 0 24 24\"\n",
              "     width=\"24px\">\n",
              "    <g>\n",
              "        <path d=\"M19 3H5c-1.1 0-2 .9-2 2v14c0 1.1.9 2 2 2h14c1.1 0 2-.9 2-2V5c0-1.1-.9-2-2-2zM9 17H7v-7h2v7zm4 0h-2V7h2v10zm4 0h-2v-4h2v4z\"/>\n",
              "    </g>\n",
              "</svg>\n",
              "  </button>\n",
              "\n",
              "<style>\n",
              "  .colab-df-quickchart {\n",
              "      --bg-color: #E8F0FE;\n",
              "      --fill-color: #1967D2;\n",
              "      --hover-bg-color: #E2EBFA;\n",
              "      --hover-fill-color: #174EA6;\n",
              "      --disabled-fill-color: #AAA;\n",
              "      --disabled-bg-color: #DDD;\n",
              "  }\n",
              "\n",
              "  [theme=dark] .colab-df-quickchart {\n",
              "      --bg-color: #3B4455;\n",
              "      --fill-color: #D2E3FC;\n",
              "      --hover-bg-color: #434B5C;\n",
              "      --hover-fill-color: #FFFFFF;\n",
              "      --disabled-bg-color: #3B4455;\n",
              "      --disabled-fill-color: #666;\n",
              "  }\n",
              "\n",
              "  .colab-df-quickchart {\n",
              "    background-color: var(--bg-color);\n",
              "    border: none;\n",
              "    border-radius: 50%;\n",
              "    cursor: pointer;\n",
              "    display: none;\n",
              "    fill: var(--fill-color);\n",
              "    height: 32px;\n",
              "    padding: 0;\n",
              "    width: 32px;\n",
              "  }\n",
              "\n",
              "  .colab-df-quickchart:hover {\n",
              "    background-color: var(--hover-bg-color);\n",
              "    box-shadow: 0 1px 2px rgba(60, 64, 67, 0.3), 0 1px 3px 1px rgba(60, 64, 67, 0.15);\n",
              "    fill: var(--button-hover-fill-color);\n",
              "  }\n",
              "\n",
              "  .colab-df-quickchart-complete:disabled,\n",
              "  .colab-df-quickchart-complete:disabled:hover {\n",
              "    background-color: var(--disabled-bg-color);\n",
              "    fill: var(--disabled-fill-color);\n",
              "    box-shadow: none;\n",
              "  }\n",
              "\n",
              "  .colab-df-spinner {\n",
              "    border: 2px solid var(--fill-color);\n",
              "    border-color: transparent;\n",
              "    border-bottom-color: var(--fill-color);\n",
              "    animation:\n",
              "      spin 1s steps(1) infinite;\n",
              "  }\n",
              "\n",
              "  @keyframes spin {\n",
              "    0% {\n",
              "      border-color: transparent;\n",
              "      border-bottom-color: var(--fill-color);\n",
              "      border-left-color: var(--fill-color);\n",
              "    }\n",
              "    20% {\n",
              "      border-color: transparent;\n",
              "      border-left-color: var(--fill-color);\n",
              "      border-top-color: var(--fill-color);\n",
              "    }\n",
              "    30% {\n",
              "      border-color: transparent;\n",
              "      border-left-color: var(--fill-color);\n",
              "      border-top-color: var(--fill-color);\n",
              "      border-right-color: var(--fill-color);\n",
              "    }\n",
              "    40% {\n",
              "      border-color: transparent;\n",
              "      border-right-color: var(--fill-color);\n",
              "      border-top-color: var(--fill-color);\n",
              "    }\n",
              "    60% {\n",
              "      border-color: transparent;\n",
              "      border-right-color: var(--fill-color);\n",
              "    }\n",
              "    80% {\n",
              "      border-color: transparent;\n",
              "      border-right-color: var(--fill-color);\n",
              "      border-bottom-color: var(--fill-color);\n",
              "    }\n",
              "    90% {\n",
              "      border-color: transparent;\n",
              "      border-bottom-color: var(--fill-color);\n",
              "    }\n",
              "  }\n",
              "</style>\n",
              "\n",
              "  <script>\n",
              "    async function quickchart(key) {\n",
              "      const quickchartButtonEl =\n",
              "        document.querySelector('#' + key + ' button');\n",
              "      quickchartButtonEl.disabled = true;  // To prevent multiple clicks.\n",
              "      quickchartButtonEl.classList.add('colab-df-spinner');\n",
              "      try {\n",
              "        const charts = await google.colab.kernel.invokeFunction(\n",
              "            'suggestCharts', [key], {});\n",
              "      } catch (error) {\n",
              "        console.error('Error during call to suggestCharts:', error);\n",
              "      }\n",
              "      quickchartButtonEl.classList.remove('colab-df-spinner');\n",
              "      quickchartButtonEl.classList.add('colab-df-quickchart-complete');\n",
              "    }\n",
              "    (() => {\n",
              "      let quickchartButtonEl =\n",
              "        document.querySelector('#df-7fddbac7-861c-491f-af33-fa759aac69b9 button');\n",
              "      quickchartButtonEl.style.display =\n",
              "        google.colab.kernel.accessAllowed ? 'block' : 'none';\n",
              "    })();\n",
              "  </script>\n",
              "</div>\n",
              "    </div>\n",
              "  </div>\n"
            ]
          },
          "metadata": {},
          "execution_count": 88
        }
      ]
    },
    {
      "cell_type": "code",
      "source": [
        "plot_df = final_df[['Weekly_Sales','Type']]\n",
        "plot_df = plot_df.groupby('Type').mean()\n",
        "plot_df.plot.bar()\n",
        "plt.title('Store Type vs. Weekly Sales')\n",
        "plt.xlabel('Type')\n",
        "plt.ylabel('Avg Weekly Sales')\n",
        "plt.show()"
      ],
      "metadata": {
        "colab": {
          "base_uri": "https://localhost:8080/",
          "height": 467
        },
        "id": "pb37PK7-x4ga",
        "outputId": "b47d6932-e750-426c-ce98-1c99d3d1ff19"
      },
      "execution_count": 91,
      "outputs": [
        {
          "output_type": "display_data",
          "data": {
            "text/plain": [
              "<Figure size 640x480 with 1 Axes>"
            ],
            "image/png": "[encoded data removed]"
          },
          "metadata": {}
        }
      ]
    },
    {
      "cell_type": "code",
      "source": [],
      "metadata": {
        "id": "wa2ElWn_0qHo"
      },
      "execution_count": null,
      "outputs": []
    }
  ]
}