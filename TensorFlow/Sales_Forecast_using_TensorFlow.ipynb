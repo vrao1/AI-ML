{
  "nbformat": 4,
  "nbformat_minor": 0,
  "metadata": {
    "colab": {
      "provenance": [],
      "authorship_tag": "ABX9TyPuIolEzVGjqD6smFXb6DXW",
      "include_colab_link": true
    },
    "kernelspec": {
      "name": "python3",
      "display_name": "Python 3"
    },
    "language_info": {
      "name": "python"
    }
  },
  "cells": [
    {
      "cell_type": "markdown",
      "metadata": {
        "id": "view-in-github",
        "colab_type": "text"
      },
      "source": [
        "<a href=\"https://colab.research.google.com/github/vrao1/AI-ML/blob/main/TensorFlow/Sales_Forecast_using_TensorFlow.ipynb\" target=\"_parent\"><img src=\"https://colab.research.google.com/assets/colab-badge.svg\" alt=\"Open In Colab\"/></a>"
      ]
    },
    {
      "cell_type": "code",
      "execution_count": 23,
      "metadata": {
        "id": "Z64R7hu0QwyL"
      },
      "outputs": [],
      "source": [
        "import pandas as pd"
      ]
    },
    {
      "cell_type": "markdown",
      "source": [
        "Mounting Google Drive to access **datasets** **bold text**"
      ],
      "metadata": {
        "id": "TmxZb2AZSGfh"
      }
    },
    {
      "cell_type": "code",
      "source": [
        "from google.colab import drive\n",
        "drive.mount('/content/drive')"
      ],
      "metadata": {
        "colab": {
          "base_uri": "https://localhost:8080/"
        },
        "id": "fY2wrRByRaNP",
        "outputId": "ba933818-fe23-4cb3-b613-e098c22f7f9e"
      },
      "execution_count": 24,
      "outputs": [
        {
          "output_type": "stream",
          "name": "stdout",
          "text": [
            "Drive already mounted at /content/drive; to attempt to forcibly remount, call drive.mount(\"/content/drive\", force_remount=True).\n"
          ]
        }
      ]
    },
    {
      "cell_type": "code",
      "source": [
        "def loadDataframe():\n",
        "  train_df = pd.read_csv('/content/drive/MyDrive/DatasetsForGoogleColabWork/TensorFlow/SalesForcast/weekly_sales.csv')\n",
        "  features_df = pd.read_csv('/content/drive/MyDrive/DatasetsForGoogleColabWork/TensorFlow/SalesForcast/features.csv')\n",
        "  stores_df = pd.read_csv('/content/drive/MyDrive/DatasetsForGoogleColabWork/TensorFlow/SalesForcast/stores.csv')\n",
        "\n",
        "  return (train_df, features_df, stores_df)"
      ],
      "metadata": {
        "id": "le8bAIjdSOKv"
      },
      "execution_count": 25,
      "outputs": []
    },
    {
      "cell_type": "code",
      "source": [
        "(t_df, f_df, s_df) = loadDataframe()"
      ],
      "metadata": {
        "id": "7PUlvYIcTxrV"
      },
      "execution_count": 26,
      "outputs": []
    },
    {
      "cell_type": "code",
      "source": [
        "print(t_df)"
      ],
      "metadata": {
        "colab": {
          "base_uri": "https://localhost:8080/"
        },
        "id": "v2MFk7TEUEfL",
        "outputId": "dcda4457-adb4-4b03-d364-e2fa2474fc47"
      },
      "execution_count": 27,
      "outputs": [
        {
          "output_type": "stream",
          "name": "stdout",
          "text": [
            "      Store  Dept        Date  Weekly_Sales  IsHoliday\n",
            "0         1     1  2010-02-05      24924.50      False\n",
            "1         1     1  2010-02-12      46039.49       True\n",
            "2         1     1  2010-02-19      41595.55      False\n",
            "3         1     1  2010-02-26      19403.54      False\n",
            "4         1     1  2010-03-05      21827.90      False\n",
            "...     ...   ...         ...           ...        ...\n",
            "9992      6     8  2010-04-30      47811.70      False\n",
            "9993      6     8  2010-05-07      46289.02      False\n",
            "9994      6     8  2010-05-14      46403.86      False\n",
            "9995      6     8  2010-05-21      46435.02      False\n",
            "9996      6     8  2010-05-28      47246.38      False\n",
            "\n",
            "[9997 rows x 5 columns]\n"
          ]
        }
      ]
    },
    {
      "cell_type": "code",
      "source": [
        "print(f_df)"
      ],
      "metadata": {
        "colab": {
          "base_uri": "https://localhost:8080/"
        },
        "id": "sGEcGfjEU8_M",
        "outputId": "19c0af2a-dd04-40cc-8f19-6449d7a1885e"
      },
      "execution_count": 28,
      "outputs": [
        {
          "output_type": "stream",
          "name": "stdout",
          "text": [
            "      Store        Date  Temperature  Fuel_Price  MarkDown1  MarkDown2  \\\n",
            "0         1  2010-02-05        42.31       2.572        NaN        NaN   \n",
            "1         1  2010-02-12        38.51       2.548        NaN        NaN   \n",
            "2         1  2010-02-19        39.93       2.514        NaN        NaN   \n",
            "3         1  2010-02-26        46.63       2.561        NaN        NaN   \n",
            "4         1  2010-03-05        46.50       2.625        NaN        NaN   \n",
            "...     ...         ...          ...         ...        ...        ...   \n",
            "8185     45  2013-06-28        76.05       3.639    4842.29     975.03   \n",
            "8186     45  2013-07-05        77.50       3.614    9090.48    2268.58   \n",
            "8187     45  2013-07-12        79.37       3.614    3789.94    1827.31   \n",
            "8188     45  2013-07-19        82.84       3.737    2961.49    1047.07   \n",
            "8189     45  2013-07-26        76.06       3.804     212.02     851.73   \n",
            "\n",
            "      MarkDown3  MarkDown4  MarkDown5         CPI  Unemployment  IsHoliday  \n",
            "0           NaN        NaN        NaN  211.096358         8.106      False  \n",
            "1           NaN        NaN        NaN  211.242170         8.106       True  \n",
            "2           NaN        NaN        NaN  211.289143         8.106      False  \n",
            "3           NaN        NaN        NaN  211.319643         8.106      False  \n",
            "4           NaN        NaN        NaN  211.350143         8.106      False  \n",
            "...         ...        ...        ...         ...           ...        ...  \n",
            "8185       3.00    2449.97    3169.69         NaN           NaN      False  \n",
            "8186     582.74    5797.47    1514.93         NaN           NaN      False  \n",
            "8187      85.72     744.84    2150.36         NaN           NaN      False  \n",
            "8188     204.19     363.00    1059.46         NaN           NaN      False  \n",
            "8189       2.06      10.88    1864.57         NaN           NaN      False  \n",
            "\n",
            "[8190 rows x 12 columns]\n"
          ]
        }
      ]
    },
    {
      "cell_type": "code",
      "source": [
        "print(s_df)"
      ],
      "metadata": {
        "colab": {
          "base_uri": "https://localhost:8080/"
        },
        "id": "1SAWmBuFoiqw",
        "outputId": "10973b9b-131f-4baa-fe1c-3dcc57e32773"
      },
      "execution_count": 29,
      "outputs": [
        {
          "output_type": "stream",
          "name": "stdout",
          "text": [
            "    Store Type    Size\n",
            "0       1    A  151315\n",
            "1       2    A  202307\n",
            "2       3    B   37392\n",
            "3       4    A  205863\n",
            "4       5    B   34875\n",
            "5       6    A  202505\n",
            "6       7    B   70713\n",
            "7       8    A  155078\n",
            "8       9    B  125833\n",
            "9      10    B  126512\n",
            "10     11    A  207499\n",
            "11     12    B  112238\n",
            "12     13    A  219622\n",
            "13     14    A  200898\n",
            "14     15    B  123737\n",
            "15     16    B   57197\n",
            "16     17    B   93188\n",
            "17     18    B  120653\n",
            "18     19    A  203819\n",
            "19     20    A  203742\n",
            "20     21    B  140167\n",
            "21     22    B  119557\n",
            "22     23    B  114533\n",
            "23     24    A  203819\n",
            "24     25    B  128107\n",
            "25     26    A  152513\n",
            "26     27    A  204184\n",
            "27     28    A  206302\n",
            "28     29    B   93638\n",
            "29     30    C   42988\n",
            "30     31    A  203750\n",
            "31     32    A  203007\n",
            "32     33    A   39690\n",
            "33     34    A  158114\n",
            "34     35    B  103681\n",
            "35     36    A   39910\n",
            "36     37    C   39910\n",
            "37     38    C   39690\n",
            "38     39    A  184109\n",
            "39     40    A  155083\n",
            "40     41    A  196321\n",
            "41     42    C   39690\n",
            "42     43    C   41062\n",
            "43     44    C   39910\n",
            "44     45    B  118221\n"
          ]
        }
      ]
    },
    {
      "cell_type": "code",
      "source": [
        "features_columns = f_df.columns\n",
        "\n",
        "print(\"All columns of features dataset = {}\".format(features_columns))\n",
        "\n",
        "store_columns = s_df.columns\n",
        "\n",
        "print(\"All columns of store dataset = {}\".format(store_columns))\n",
        "\n",
        "weekly_sales_columns = t_df.columns\n",
        "\n",
        "print(\"All columns of weekly sales dataset = {}\".format(weekly_sales_columns))"
      ],
      "metadata": {
        "colab": {
          "base_uri": "https://localhost:8080/"
        },
        "id": "JqAnlDiWrKnm",
        "outputId": "17fab2ee-aac6-43c1-a933-f6d504e0965d"
      },
      "execution_count": 30,
      "outputs": [
        {
          "output_type": "stream",
          "name": "stdout",
          "text": [
            "All columns of features dataset = Index(['Store', 'Date', 'Temperature', 'Fuel_Price', 'MarkDown1', 'MarkDown2',\n",
            "       'MarkDown3', 'MarkDown4', 'MarkDown5', 'CPI', 'Unemployment',\n",
            "       'IsHoliday'],\n",
            "      dtype='object')\n",
            "All columns of store dataset = Index(['Store', 'Type', 'Size'], dtype='object')\n",
            "All columns of weekly sales dataset = Index(['Store', 'Dept', 'Date', 'Weekly_Sales', 'IsHoliday'], dtype='object')\n"
          ]
        }
      ]
    },
    {
      "cell_type": "markdown",
      "source": [
        "merging stores and features dataframe on store column"
      ],
      "metadata": {
        "id": "NtBI624-pmmY"
      }
    },
    {
      "cell_type": "code",
      "source": [
        "merged_df = f_df.merge(s_df, on='Store')"
      ],
      "metadata": {
        "id": "vrNxvASVpoxA"
      },
      "execution_count": 31,
      "outputs": []
    },
    {
      "cell_type": "code",
      "source": [
        "print(merged_df)"
      ],
      "metadata": {
        "colab": {
          "base_uri": "https://localhost:8080/"
        },
        "id": "fRzxOpqJp9HQ",
        "outputId": "692f4622-32bb-4ef5-dbe9-e94b220fa217"
      },
      "execution_count": 32,
      "outputs": [
        {
          "output_type": "stream",
          "name": "stdout",
          "text": [
            "      Store        Date  Temperature  Fuel_Price  MarkDown1  MarkDown2  \\\n",
            "0         1  2010-02-05        42.31       2.572        NaN        NaN   \n",
            "1         1  2010-02-12        38.51       2.548        NaN        NaN   \n",
            "2         1  2010-02-19        39.93       2.514        NaN        NaN   \n",
            "3         1  2010-02-26        46.63       2.561        NaN        NaN   \n",
            "4         1  2010-03-05        46.50       2.625        NaN        NaN   \n",
            "...     ...         ...          ...         ...        ...        ...   \n",
            "8185     45  2013-06-28        76.05       3.639    4842.29     975.03   \n",
            "8186     45  2013-07-05        77.50       3.614    9090.48    2268.58   \n",
            "8187     45  2013-07-12        79.37       3.614    3789.94    1827.31   \n",
            "8188     45  2013-07-19        82.84       3.737    2961.49    1047.07   \n",
            "8189     45  2013-07-26        76.06       3.804     212.02     851.73   \n",
            "\n",
            "      MarkDown3  MarkDown4  MarkDown5         CPI  Unemployment  IsHoliday  \\\n",
            "0           NaN        NaN        NaN  211.096358         8.106      False   \n",
            "1           NaN        NaN        NaN  211.242170         8.106       True   \n",
            "2           NaN        NaN        NaN  211.289143         8.106      False   \n",
            "3           NaN        NaN        NaN  211.319643         8.106      False   \n",
            "4           NaN        NaN        NaN  211.350143         8.106      False   \n",
            "...         ...        ...        ...         ...           ...        ...   \n",
            "8185       3.00    2449.97    3169.69         NaN           NaN      False   \n",
            "8186     582.74    5797.47    1514.93         NaN           NaN      False   \n",
            "8187      85.72     744.84    2150.36         NaN           NaN      False   \n",
            "8188     204.19     363.00    1059.46         NaN           NaN      False   \n",
            "8189       2.06      10.88    1864.57         NaN           NaN      False   \n",
            "\n",
            "     Type    Size  \n",
            "0       A  151315  \n",
            "1       A  151315  \n",
            "2       A  151315  \n",
            "3       A  151315  \n",
            "4       A  151315  \n",
            "...   ...     ...  \n",
            "8185    B  118221  \n",
            "8186    B  118221  \n",
            "8187    B  118221  \n",
            "8188    B  118221  \n",
            "8189    B  118221  \n",
            "\n",
            "[8190 rows x 14 columns]\n"
          ]
        }
      ]
    },
    {
      "cell_type": "markdown",
      "source": [
        "Finding columns with NaN values"
      ],
      "metadata": {
        "id": "d3oM8fwqqj0b"
      }
    },
    {
      "cell_type": "code",
      "source": [
        "merged_df_columns = merged_df.columns\n",
        "merged_df_columns_list = merged_df_columns.tolist()"
      ],
      "metadata": {
        "id": "G4ll_XAvqVpQ"
      },
      "execution_count": 33,
      "outputs": []
    },
    {
      "cell_type": "code",
      "source": [
        "merged_df_columns_list"
      ],
      "metadata": {
        "colab": {
          "base_uri": "https://localhost:8080/"
        },
        "id": "ak0kOCAKqvfi",
        "outputId": "af743789-1876-4bc5-ac9f-331829bf7d32"
      },
      "execution_count": 34,
      "outputs": [
        {
          "output_type": "execute_result",
          "data": {
            "text/plain": [
              "['Store',\n",
              " 'Date',\n",
              " 'Temperature',\n",
              " 'Fuel_Price',\n",
              " 'MarkDown1',\n",
              " 'MarkDown2',\n",
              " 'MarkDown3',\n",
              " 'MarkDown4',\n",
              " 'MarkDown5',\n",
              " 'CPI',\n",
              " 'Unemployment',\n",
              " 'IsHoliday',\n",
              " 'Type',\n",
              " 'Size']"
            ]
          },
          "metadata": {},
          "execution_count": 34
        }
      ]
    },
    {
      "cell_type": "code",
      "source": [
        "all_na = pd.isna(merged_df)\n",
        "print(all_na)"
      ],
      "metadata": {
        "colab": {
          "base_uri": "https://localhost:8080/"
        },
        "id": "o4AsCxfvtFRg",
        "outputId": "b9e3a755-56f0-4925-d053-4e387b63e541"
      },
      "execution_count": 35,
      "outputs": [
        {
          "output_type": "stream",
          "name": "stdout",
          "text": [
            "      Store   Date  Temperature  Fuel_Price  MarkDown1  MarkDown2  MarkDown3  \\\n",
            "0     False  False        False       False       True       True       True   \n",
            "1     False  False        False       False       True       True       True   \n",
            "2     False  False        False       False       True       True       True   \n",
            "3     False  False        False       False       True       True       True   \n",
            "4     False  False        False       False       True       True       True   \n",
            "...     ...    ...          ...         ...        ...        ...        ...   \n",
            "8185  False  False        False       False      False      False      False   \n",
            "8186  False  False        False       False      False      False      False   \n",
            "8187  False  False        False       False      False      False      False   \n",
            "8188  False  False        False       False      False      False      False   \n",
            "8189  False  False        False       False      False      False      False   \n",
            "\n",
            "      MarkDown4  MarkDown5    CPI  Unemployment  IsHoliday   Type   Size  \n",
            "0          True       True  False         False      False  False  False  \n",
            "1          True       True  False         False      False  False  False  \n",
            "2          True       True  False         False      False  False  False  \n",
            "3          True       True  False         False      False  False  False  \n",
            "4          True       True  False         False      False  False  False  \n",
            "...         ...        ...    ...           ...        ...    ...    ...  \n",
            "8185      False      False   True          True      False  False  False  \n",
            "8186      False      False   True          True      False  False  False  \n",
            "8187      False      False   True          True      False  False  False  \n",
            "8188      False      False   True          True      False  False  False  \n",
            "8189      False      False   True          True      False  False  False  \n",
            "\n",
            "[8190 rows x 14 columns]\n"
          ]
        }
      ]
    },
    {
      "cell_type": "code",
      "source": [
        "na_features = all_na.any()\n",
        "print(na_features)"
      ],
      "metadata": {
        "colab": {
          "base_uri": "https://localhost:8080/"
        },
        "id": "lcJrc3i-tqIo",
        "outputId": "590276a8-2d73-469a-e13a-bf70cd024506"
      },
      "execution_count": 38,
      "outputs": [
        {
          "output_type": "stream",
          "name": "stdout",
          "text": [
            "Store           False\n",
            "Date            False\n",
            "Temperature     False\n",
            "Fuel_Price      False\n",
            "MarkDown1        True\n",
            "MarkDown2        True\n",
            "MarkDown3        True\n",
            "MarkDown4        True\n",
            "MarkDown5        True\n",
            "CPI              True\n",
            "Unemployment     True\n",
            "IsHoliday       False\n",
            "Type            False\n",
            "Size            False\n",
            "dtype: bool\n"
          ]
        }
      ]
    },
    {
      "cell_type": "markdown",
      "source": [
        "Count number of null values for each column"
      ],
      "metadata": {
        "id": "YwHjmFoIvSpv"
      }
    },
    {
      "cell_type": "code",
      "source": [
        "print(len(all_na))"
      ],
      "metadata": {
        "colab": {
          "base_uri": "https://localhost:8080/"
        },
        "id": "IWDcwr0nt5c5",
        "outputId": "07248d33-8486-42db-aee7-37b631e5123a"
      },
      "execution_count": 39,
      "outputs": [
        {
          "output_type": "stream",
          "name": "stdout",
          "text": [
            "8190\n"
          ]
        }
      ]
    },
    {
      "cell_type": "code",
      "source": [
        "print(sum(all_na['MarkDown1']))"
      ],
      "metadata": {
        "colab": {
          "base_uri": "https://localhost:8080/"
        },
        "id": "4TLGb-JKvpUZ",
        "outputId": "0eda16a1-1e7a-4d69-d641-9be1fb2665d5"
      },
      "execution_count": 40,
      "outputs": [
        {
          "output_type": "stream",
          "name": "stdout",
          "text": [
            "4158\n"
          ]
        }
      ]
    },
    {
      "cell_type": "code",
      "source": [
        "print(sum(all_na['MarkDown2']))"
      ],
      "metadata": {
        "colab": {
          "base_uri": "https://localhost:8080/"
        },
        "id": "tZozR6FSw5IQ",
        "outputId": "6eaf2c76-50b2-4682-c98d-d618cf7a4d29"
      },
      "execution_count": 41,
      "outputs": [
        {
          "output_type": "stream",
          "name": "stdout",
          "text": [
            "5269\n"
          ]
        }
      ]
    },
    {
      "cell_type": "code",
      "source": [
        "print(sum(all_na['MarkDown3']))"
      ],
      "metadata": {
        "colab": {
          "base_uri": "https://localhost:8080/"
        },
        "id": "LBn_53B0xF8E",
        "outputId": "818fe6a6-eb27-4c3e-b3b0-c13a077a6c1e"
      },
      "execution_count": 42,
      "outputs": [
        {
          "output_type": "stream",
          "name": "stdout",
          "text": [
            "4577\n"
          ]
        }
      ]
    },
    {
      "cell_type": "code",
      "source": [
        "print(sum(all_na['MarkDown4']))"
      ],
      "metadata": {
        "colab": {
          "base_uri": "https://localhost:8080/"
        },
        "id": "wkf31N7MxJMM",
        "outputId": "8c7412e0-ee6c-4f34-a6cb-08e797843c07"
      },
      "execution_count": 43,
      "outputs": [
        {
          "output_type": "stream",
          "name": "stdout",
          "text": [
            "4726\n"
          ]
        }
      ]
    },
    {
      "cell_type": "code",
      "source": [
        "print(sum(all_na['MarkDown5']))"
      ],
      "metadata": {
        "colab": {
          "base_uri": "https://localhost:8080/"
        },
        "id": "9FsC0oq_xMzA",
        "outputId": "3b98c52f-87e7-469e-acf7-d2e09d2eebe4"
      },
      "execution_count": 44,
      "outputs": [
        {
          "output_type": "stream",
          "name": "stdout",
          "text": [
            "4140\n"
          ]
        }
      ]
    },
    {
      "cell_type": "code",
      "source": [
        "print(sum(all_na['CPI']))"
      ],
      "metadata": {
        "colab": {
          "base_uri": "https://localhost:8080/"
        },
        "id": "cVMv2krwxP5k",
        "outputId": "4ca26048-9c0f-4df3-e2e4-93b457a239f8"
      },
      "execution_count": 45,
      "outputs": [
        {
          "output_type": "stream",
          "name": "stdout",
          "text": [
            "585\n"
          ]
        }
      ]
    },
    {
      "cell_type": "code",
      "source": [
        "print(sum(all_na['Unemployment']))"
      ],
      "metadata": {
        "colab": {
          "base_uri": "https://localhost:8080/"
        },
        "id": "f_fYi9WWxQNR",
        "outputId": "229b2fd4-09bc-4b50-be64-7e293fa3db00"
      },
      "execution_count": 46,
      "outputs": [
        {
          "output_type": "stream",
          "name": "stdout",
          "text": [
            "585\n"
          ]
        }
      ]
    },
    {
      "cell_type": "markdown",
      "source": [
        "All markdown columns values have more or less 50% of entries are missing or null, hence dropping these columns"
      ],
      "metadata": {
        "id": "TpVTX2hWyjVP"
      }
    },
    {
      "cell_type": "code",
      "source": [
        "merged_df.columns"
      ],
      "metadata": {
        "colab": {
          "base_uri": "https://localhost:8080/"
        },
        "id": "dGD3qZiPzNgi",
        "outputId": "86be37e7-b929-469c-a7d3-0547b2dce8b1"
      },
      "execution_count": 47,
      "outputs": [
        {
          "output_type": "execute_result",
          "data": {
            "text/plain": [
              "Index(['Store', 'Date', 'Temperature', 'Fuel_Price', 'MarkDown1', 'MarkDown2',\n",
              "       'MarkDown3', 'MarkDown4', 'MarkDown5', 'CPI', 'Unemployment',\n",
              "       'IsHoliday', 'Type', 'Size'],\n",
              "      dtype='object')"
            ]
          },
          "metadata": {},
          "execution_count": 47
        }
      ]
    },
    {
      "cell_type": "code",
      "source": [
        "all_markdown_columns = ['MarkDown1', 'MarkDown2', 'MarkDown3', 'MarkDown4', 'MarkDown5']\n",
        "merged_df = merged_df.drop(columns=all_markdown_columns)\n",
        "\n",
        "merged_df.columns"
      ],
      "metadata": {
        "colab": {
          "base_uri": "https://localhost:8080/"
        },
        "id": "wDI5tRP4xaze",
        "outputId": "165ab2e0-ded3-4c05-ed75-c2c900145b7c"
      },
      "execution_count": 48,
      "outputs": [
        {
          "output_type": "execute_result",
          "data": {
            "text/plain": [
              "Index(['Store', 'Date', 'Temperature', 'Fuel_Price', 'CPI', 'Unemployment',\n",
              "       'IsHoliday', 'Type', 'Size'],\n",
              "      dtype='object')"
            ]
          },
          "metadata": {},
          "execution_count": 48
        }
      ]
    },
    {
      "cell_type": "markdown",
      "source": [
        "CPI and unemployment have 585 << 8190 so we are not dropping"
      ],
      "metadata": {
        "id": "cg7Kc8onzi_V"
      }
    },
    {
      "cell_type": "code",
      "source": [],
      "metadata": {
        "id": "wStrDpppzWGx"
      },
      "execution_count": null,
      "outputs": []
    }
  ]
}