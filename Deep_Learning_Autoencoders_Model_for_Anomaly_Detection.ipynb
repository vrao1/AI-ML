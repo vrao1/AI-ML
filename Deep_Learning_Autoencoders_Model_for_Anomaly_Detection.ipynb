{
  "nbformat": 4,
  "nbformat_minor": 0,
  "metadata": {
    "colab": {
      "provenance": [],
      "authorship_tag": "ABX9TyM8oqJYVmFPkZhs66xdap94",
      "include_colab_link": true
    },
    "kernelspec": {
      "name": "python3",
      "display_name": "Python 3"
    },
    "language_info": {
      "name": "python"
    }
  },
  "cells": [
    {
      "cell_type": "markdown",
      "metadata": {
        "id": "view-in-github",
        "colab_type": "text"
      },
      "source": [
        "<a href=\"https://colab.research.google.com/github/vrao1/AI-ML/blob/main/Deep_Learning_Autoencoders_Model_for_Anomaly_Detection.ipynb\" target=\"_parent\"><img src=\"https://colab.research.google.com/assets/colab-badge.svg\" alt=\"Open In Colab\"/></a>"
      ]
    },
    {
      "cell_type": "markdown",
      "source": [
        "**Business Objective **\n",
        "\n",
        "\n",
        "*   To assess if a transaction is risky (in other words, fradulent) from the given credit card data\n",
        "*   Learn from various features of normal transactions to distinguish fraud transactions better\n",
        "\n",
        "\n",
        "\n"
      ],
      "metadata": {
        "id": "8MCoMDjICC4M"
      }
    },
    {
      "cell_type": "code",
      "source": [],
      "metadata": {
        "id": "i91W9dKTCytD"
      },
      "execution_count": null,
      "outputs": []
    }
  ]
}